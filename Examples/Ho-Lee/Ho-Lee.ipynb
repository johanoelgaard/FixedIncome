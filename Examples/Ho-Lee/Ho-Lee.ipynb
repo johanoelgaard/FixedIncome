{
 "cells": [
  {
   "cell_type": "markdown",
   "metadata": {},
   "source": [
    "# Ho-Lee Example"
   ]
  },
  {
   "cell_type": "code",
   "execution_count": 1,
   "metadata": {},
   "outputs": [],
   "source": [
    "import sys\n",
    "import os\n",
    "# add the directory\n",
    "sys.path.append(os.path.abspath(\"../../Files\"))\n",
    "\n",
    "import numpy as np\n",
    "from scipy.optimize import minimize\n",
    "import matplotlib.pyplot as plt\n",
    "from numpy.polynomial.hermite import hermfit, hermval\n",
    "import copy\n",
    "# import own module\n",
    "import fixed_income_derivatives_E2024 as fid\n",
    "\n",
    "%load_ext autoreload\n",
    "%autoreload 2"
   ]
  },
  {
   "cell_type": "markdown",
   "metadata": {},
   "source": [
    "## Problem 1"
   ]
  },
  {
   "cell_type": "markdown",
   "metadata": {},
   "source": [
    "\\begin{align*}\n",
    "\\Theta(t) &= \\frac{\\partial}{\\partial T}f^*(0,t)+\\sigma^2 t \\\\\n",
    "A(t,T) &= \\frac{\\sigma^2}{6} (T-t)^3 + \\int_{t}^{T}\\Theta(s)(s-t)ds \\\\\n",
    "u &= \\int_{t}^{T}(\\frac{\\partial}{\\partial T}f^*(0,s) + \\sigma^2 s)(s-T)ds \\\\\n",
    "&= \\int_{t}^{T}s(\\frac{\\partial}{\\partial T}f^*(0,s) + \\sigma^2 s)ds - T\\int_{t}^{T}(\\frac{\\partial}{\\partial T}f^*(0,s) + \\sigma^2 s)ds \\\\\n",
    "&= I_1 - I_2 \\\\\n",
    "I_1 &= \\int_{t}^{T}s(\\frac{\\partial}{\\partial T}f^*(0,s) + \\sigma^2 s)ds = \\sigma^2 \\frac{1}{3} [s^3]_t^T\n",
    "\\end{align*}"
   ]
  },
  {
   "cell_type": "markdown",
   "metadata": {},
   "source": [
    "\\begin{align*}\n",
    "f(0,T) &= \\frac{\\partial}{\\partial T}P(0,T) \\quad \\text{Instantaneous forward rate} \\\\\n",
    "f(0,0) &= r_0 \\quad \\text{Forward rate at time 0,} \\\\ &\\qquad \\qquad \\text{is equal to the short rate at time 0} \\\\\n",
    "\\end{align*}"
   ]
  },
  {
   "cell_type": "markdown",
   "metadata": {},
   "source": [
    "\\begin{align*}\n",
    "dM_t &= a(t)dt + bdWt \\\\\n",
    "M_t \\vert \\mathcal{F}_t &= M_t \\int_{t}^{T}a(s)ds + \\int_t^T b dWs \\\\\n",
    "\\end{align*}"
   ]
  },
  {
   "cell_type": "markdown",
   "metadata": {},
   "source": [
    "\\begin{align*}\n",
    "dr_t &= \\Theta(t) dt + \\sigma dW_t \\\\\n",
    "&= [\\frac{\\partial}{\\partial T}f^*(t,t)+\\sigma^2 t]dt + \\sigma dW_t \\\\\n",
    "r_T &= r_t + \\int_t^T (\\frac{\\partial}{\\partial T}f^*(t,s) + \\sigma^2 s)ds + \\sigma \\int_t^T dW_s \\\\\n",
    "&= r_t + f^*(t,T) - f^*(t,t) + \\frac{1}{2}\\sigma^2 (T-t)^2 + \\sigma (W_t-W,t)\\\\\n",
    "&= f^*(t,T) + \\frac{1}{2}\\sigma^2 (T-t)^2 + \\sigma (W_t-W,t), \\\\ &\\qquad \\qquad r_T \\vert r_t \\sim \\mathcal{N}(f^*(t,T)+\\frac{1}{2}\\sigma^2 (T-t)^2, \\sigma^2(T-t)) \\\\\n",
    "\\end{align*}"
   ]
  },
  {
   "cell_type": "markdown",
   "metadata": {},
   "source": [
    "## Problem 3\n",
    "\n",
    "We want the spot and forward rates to be smooth as we are using its deriatives when choosing $\\Theta$\n",
    "\n",
    "Vasicek is bad because we have a hump-shaped curve, which it cannot handle. It can only handle a monotonically increasing or decreasing curve (or flat)."
   ]
  }
 ],
 "metadata": {
  "kernelspec": {
   "display_name": "base",
   "language": "python",
   "name": "python3"
  },
  "language_info": {
   "codemirror_mode": {
    "name": "ipython",
    "version": 3
   },
   "file_extension": ".py",
   "mimetype": "text/x-python",
   "name": "python",
   "nbconvert_exporter": "python",
   "pygments_lexer": "ipython3",
   "version": "3.11.8"
  }
 },
 "nbformat": 4,
 "nbformat_minor": 2
}
