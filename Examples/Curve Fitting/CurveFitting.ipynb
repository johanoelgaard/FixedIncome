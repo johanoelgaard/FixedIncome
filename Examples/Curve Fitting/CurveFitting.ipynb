{
 "cells": [
  {
   "cell_type": "markdown",
   "metadata": {},
   "source": [
    "# Curve Fitting Example"
   ]
  },
  {
   "cell_type": "code",
   "execution_count": 6,
   "metadata": {},
   "outputs": [
    {
     "name": "stdout",
     "output_type": "stream",
     "text": [
      "The autoreload extension is already loaded. To reload it, use:\n",
      "  %reload_ext autoreload\n"
     ]
    }
   ],
   "source": [
    "import sys\n",
    "import os\n",
    "# add the directory\n",
    "sys.path.append(os.path.abspath(\"../../Files\"))\n",
    "\n",
    "import numpy as np\n",
    "from scipy.optimize import minimize\n",
    "import matplotlib.pyplot as plt\n",
    "from numpy.polynomial.hermite import hermfit, hermval\n",
    "import copy\n",
    "# import own module\n",
    "import fixed_income_derivatives_E2024 as fid\n",
    "\n",
    "%load_ext autoreload\n",
    "%autoreload 2"
   ]
  },
  {
   "cell_type": "markdown",
   "metadata": {},
   "source": [
    "## Problem 1"
   ]
  },
  {
   "cell_type": "markdown",
   "metadata": {},
   "source": [
    "### (a)\n",
    "\n",
    "We would like forward rates to be positve and realtively smooth. Forward rates involve the derivative of the spot rate, hence they must be differentialble\n",
    "When doing Ho-Lee we want the forward rates to be smooth and positive"
   ]
  },
  {
   "cell_type": "code",
   "execution_count": 26,
   "metadata": {},
   "outputs": [],
   "source": [
    "EURIBOR_fixing = [{\"id\": 0,\"instrument\": \"libor\",\"maturity\": 1/2, \"rate\":0.03478}]\n",
    "fra_market = [{\"id\": 1,\"instrument\": \"fra\",\"exercise\": 1/12,\"maturity\": 7/12, \"rate\": 0.03743},\n",
    "{\"id\": 2,\"instrument\": \"fra\",\"exercise\": 2/12,\"maturity\": 8/12, \"rate\": 0.03871},\n",
    "{\"id\": 3,\"instrument\": \"fra\",\"exercise\": 3/12,\"maturity\": 9/12, \"rate\": 0.03989},\n",
    "{\"id\": 4,\"instrument\": \"fra\",\"exercise\": 4/12,\"maturity\": 10/12, \"rate\": 0.04098},\n",
    "{\"id\": 5,\"instrument\": \"fra\",\"exercise\": 5/12,\"maturity\": 11/12, \"rate\": 0.04198},\n",
    "{\"id\": 6,\"instrument\": \"fra\",\"exercise\": 6/12,\"maturity\": 12/12, \"rate\": 0.04289},\n",
    "{\"id\": 7,\"instrument\": \"fra\",\"exercise\": 7/12,\"maturity\": 13/12, \"rate\": 0.04374},\n",
    "{\"id\": 8,\"instrument\": \"fra\",\"exercise\": 8/12,\"maturity\": 14/12, \"rate\": 0.04452},\n",
    "{\"id\": 9,\"instrument\": \"fra\",\"exercise\": 9/12,\"maturity\": 15/12, \"rate\": 0.04524}]\n",
    "swap_market = [{\"id\": 10,\"instrument\": \"swap\",\"maturity\": 2, \"rate\": 0.04377, \"float_freq\": \"semiannual\", \"fixed_freq\": \"annual\",\"indices\": []},\n",
    "{\"id\": 11,\"instrument\": \"swap\",\"maturity\": 3, \"rate\": 0.04625, \"float_freq\": \"semiannual\", \"fixed_freq\": \"annual\",\"indices\": []},\n",
    "{\"id\": 12,\"instrument\": \"swap\",\"maturity\": 4, \"rate\": 0.04777, \"float_freq\": \"semiannual\", \"fixed_freq\": \"annual\",\"indices\": []},\n",
    "{\"id\": 13,\"instrument\": \"swap\",\"maturity\": 5, \"rate\": 0.04875, \"float_freq\": \"semiannual\", \"fixed_freq\": \"annual\",\"indices\": []},\n",
    "{\"id\": 14,\"instrument\": \"swap\",\"maturity\": 7, \"rate\": 0.04992, \"float_freq\": \"semiannual\", \"fixed_freq\": \"annual\",\"indices\": []},\n",
    "{\"id\": 15,\"instrument\": \"swap\",\"maturity\": 10, \"rate\": 0.05081, \"float_freq\": \"semiannual\", \"fixed_freq\": \"annual\",\"indices\": []},\n",
    "{\"id\": 16,\"instrument\": \"swap\",\"maturity\": 15, \"rate\": 0.05148, \"float_freq\": \"semiannual\", \"fixed_freq\": \"annual\",\"indices\": []},\n",
    "{\"id\": 17,\"instrument\": \"swap\",\"maturity\": 20, \"rate\": 0.05181, \"float_freq\": \"semiannual\", \"fixed_freq\": \"annual\",\"indices\": []},\n",
    "{\"id\": 18,\"instrument\": \"swap\",\"maturity\": 30, \"rate\": 0.05211, \"float_freq\": \"semiannual\", \"fixed_freq\": \"annual\",\"indices\": []}]\n",
    "data = EURIBOR_fixing + fra_market + swap_market"
   ]
  },
  {
   "cell_type": "code",
   "execution_count": 47,
   "metadata": {},
   "outputs": [],
   "source": [
    "interpolation_options = {\"method\":\"nelson_siegel\",\"transition\": \"smooth\"}\n",
    "interpolation_options = {\"method\":\"hermite\",\"degree\":2,\"transition\": \"smooth\"}\n",
    "T_fit, R_fit = fid.zcb_curve_fit(data,interpolation_options =interpolation_options)\n",
    "T_1m = np.array([i*(1/12) for i in range(0,int(T_fit[-1])*12 + 1)])\n",
    "p_inter, R_inter, f_inter, T_inter = fid.zcb_curve_interpolate(T_inter=T_inter,T=T_fit,R=R_fit,interpolation_options = interpolation_options)"
   ]
  },
  {
   "cell_type": "code",
   "execution_count": 46,
   "metadata": {},
   "outputs": [
    {
     "data": {
      "text/plain": [
       "array([ 0.08333333,  0.16666667,  0.25      ,  0.33333333,  0.41666667,\n",
       "        0.5       ,  0.58333333,  0.66666667,  0.75      ,  0.83333333,\n",
       "        0.91666667,  1.        ,  1.08333333,  1.16666667,  1.25      ,\n",
       "        2.        ,  3.        ,  4.        ,  5.        ,  7.        ,\n",
       "       10.        , 15.        , 20.        , 30.        ])"
      ]
     },
     "execution_count": 46,
     "metadata": {},
     "output_type": "execute_result"
    }
   ],
   "source": [
    "T_fit"
   ]
  },
  {
   "cell_type": "code",
   "execution_count": 49,
   "metadata": {},
   "outputs": [],
   "source": [
    "# Problem 1 - Fitting the yield curve\n",
    "interpolation_options = {\"method\":\"nelson_siegel\",\"transition\": \"smooth\"}\n",
    "interpolation_options = {\"method\":\"hermite\",\"degree\":2,\"transition\": \"smooth\"}\n",
    "T_fit, R_fit = fid.zcb_curve_fit(data,interpolation_options = interpolation_options)\n",
    "T_6m = np.array([i*0.5 for i in range(0,int(T_fit[-1])*2+1)])\n",
    "p_inter, R_inter, f_inter, T_inter = fid.zcb_curve_interpolate(T_6m,T_fit,R_fit,interpolation_options = interpolation_options)"
   ]
  },
  {
   "cell_type": "code",
   "execution_count": 50,
   "metadata": {},
   "outputs": [
    {
     "data": {
      "image/png": "[encoded data removed]",
      "text/plain": [
       "<Figure size 1500x900 with 1 Axes>"
      ]
     },
     "metadata": {},
     "output_type": "display_data"
    }
   ],
   "source": [
    "fig = plt.figure(constrained_layout=False, dpi = 300, figsize = (5,3))\n",
    "fig.suptitle(f\"Calibrated zero coupon spot rates\", fontsize = 9)\n",
    "gs = fig.add_gridspec(nrows=1,ncols=1,left=0.12,bottom=0.2,right=0.88,top=0.90,wspace=0,hspace=0)\n",
    "ax = fig.add_subplot(gs[0,0])\n",
    "xticks = [0,1,2,3,4,5,7,10,15,20,30]\n",
    "ax.set_xticks(xticks)\n",
    "ax.set_xticklabels(xticks,fontsize = 6)\n",
    "ax.set_xlim([xticks[0]+-0.2,xticks[-1]+0.2])\n",
    "plt.xlabel(f\"Maturity\",fontsize = 6)\n",
    "ax.set_yticks([0,0.01,0.02,0.03,0.04,0.05,0.06])\n",
    "ax.set_yticklabels([0,0.01,0.02,0.03,0.04,0.05,0.06],fontsize = 6)\n",
    "ax.set_ylim([0,0.0625])\n",
    "plt.grid(axis = 'y', which='major', color=(0.7,0.7,0.7,0), linestyle='--')\n",
    "p1 = ax.scatter(T_inter[1:], R_inter[1:], s = 1, color = 'black', marker = \".\",label=\"Spot rates\")\n",
    "p2 = ax.scatter(T_inter[1:], f_inter[1:], s = 1, color = 'red', marker = \".\",label=\"forward rates\")\n",
    "plots = [p1,p2]\n",
    "labels = [item.get_label() for item in plots]\n",
    "ax.legend(plots,labels,loc=\"lower right\",fontsize = 6)\n",
    "plt.show()"
   ]
  },
  {
   "cell_type": "markdown",
   "metadata": {},
   "source": [
    "## Problem 1"
   ]
  },
  {
   "cell_type": "code",
   "execution_count": 13,
   "metadata": {},
   "outputs": [
    {
     "name": "stdout",
     "output_type": "stream",
     "text": [
      "10Y par swap rate: 0.03394986343634032, accrual factor: 8.569795673200147\n"
     ]
    }
   ],
   "source": [
    "T_6m = np.array([i*0.5 for i in range(0,61)])\n",
    "p_6m = np.ones(61)\n",
    "p_6m[1:] = fid.for_values_in_list_find_value_return_value(T_6m[1:],T_inter,p_inter)\n",
    "f_6m = fid.forward_libor_rates_from_zcb_prices(T_6m,p_6m,horizon = 1)\n",
    "\n",
    "# c) The par swap rate curve\n",
    "T_swap = np.array([i for i in range(1,31)])\n",
    "R_swap, S_swap = np.zeros([len(T_swap)]), np.zeros([len(T_swap)])\n",
    "for i, maturity in enumerate(T_swap):\n",
    "    R_swap[i], S_swap[i] = fid.swap_rate_from_zcb_prices(0,0,T_swap[i],\"annual\",T_inter,p_inter)\n",
    "print(f\"10Y par swap rate: {R_swap[9]}, accrual factor: {S_swap[9]}\")"
   ]
  },
  {
   "cell_type": "markdown",
   "metadata": {},
   "source": [
    "## Problem 2"
   ]
  },
  {
   "cell_type": "code",
   "execution_count": 14,
   "metadata": {},
   "outputs": [
    {
     "name": "stdout",
     "output_type": "stream",
     "text": [
      "Bumping spot rates\n",
      "R_swap_bump: 0.03394986343634032, S_swap_bump: 8.569795673200147\n",
      "DV01 for swap 15 when bumping spot_rate for T: 0.9916666666666667 is: -0.01170322659835478\n",
      "DV01 when bumping each spot rate separately: [0.02184704 0.05399615 0.08417421 0.11207632 0.13750066 0.16035251\n",
      " 0.18073123 0.19886464 0.21488307 7.31592314]\n",
      "R_swap_bump: 0.03405023736466938, S_swap_bump: 8.565346897762439\n",
      "DV01 for swap 15 when bumping spot_rates for T: [ 1  2  3  4  5  6  7  8  9 10] is: 8.585678005107651\n"
     ]
    }
   ],
   "source": [
    "# Problem 2 - Bumping spot rates and finding the DV01 of a swap\n",
    "swap_id, size_bump = 15, 0.0001\n",
    "print(f\"Bumping spot rates\")\n",
    "def dv01_swap_spot_rate_bump_fct(t,T_n,T_N,fixed_freq,R_swap_init,T_bump,size_bump,T_inter,R_inter,p_inter):\n",
    "    R_bump, p_bump = fid.spot_rate_bump(T_bump,size_bump,T_inter,R_inter,p_inter)\n",
    "    R_swap_bump, S_swap_bump = fid.swap_rate_from_zcb_prices(t,T_n,T_N,fixed_freq,T_inter,p_bump)\n",
    "    DV01 = (R_swap_bump-R_swap_init)*S_swap_bump\n",
    "    return DV01\n",
    "\n",
    "# 2a) DV01 when bumping a single spot rate\n",
    "idx_bump_single = 119\n",
    "R_bump = R_inter.copy()\n",
    "R_bump[idx_bump_single] += size_bump\n",
    "p_bump = fid.zcb_prices_from_spot_rates(T_inter,R_bump)\n",
    "R_swap_bump, S_swap_bump = fid.swap_rate_from_zcb_prices(0,0,data[swap_id][\"maturity\"],\"annual\",T_inter,p_bump)\n",
    "print(f\"R_swap_bump: {R_swap_bump}, S_swap_bump: {S_swap_bump}\")\n",
    "DV01 = (R_swap_bump-data[swap_id][\"rate\"])*S_swap_bump\n",
    "print(f\"DV01 for swap {swap_id} when bumping spot_rate for T: {T_inter[idx_bump_single]} is: {10000*DV01}\")\n",
    "# 2a) DV01 for bumping each of the spot rates at T=[1,2,3,4,5,6,7,8,9,10]\n",
    "DV01_bump = np.zeros([10])\n",
    "T_bump = np.array([i for i in range(1,11)])\n",
    "for i, val in enumerate(T_bump):\n",
    "    DV01_bump[i] = dv01_swap_spot_rate_bump_fct(0,0,data[swap_id][\"maturity\"],\"annual\",data[swap_id][\"rate\"],val,size_bump,T_inter,R_inter,p_inter)\n",
    "print(f\"DV01 when bumping each spot rate separately: {10000*DV01_bump}\")\n",
    "# 2b) DV01 for bumping all of the spot rates at T=[1,2,3,4,5,6,7,8,9,10]\n",
    "R_bump, p_bump = fid.spot_rate_bump(T_bump,size_bump,T_inter,R_inter,p_inter)\n",
    "R_swap_bump, S_swap_bump = fid.swap_rate_from_zcb_prices(0,0,data[swap_id][\"maturity\"],\"annual\",T_inter,p_bump)\n",
    "print(f\"R_swap_bump: {R_swap_bump}, S_swap_bump: {S_swap_bump}\")\n",
    "DV01 = (R_swap_bump-data[swap_id][\"rate\"])*S_swap_bump\n",
    "print(f\"DV01 for swap {swap_id} when bumping spot_rates for T: {T_bump} is: {10000*DV01}\")"
   ]
  },
  {
   "cell_type": "markdown",
   "metadata": {},
   "source": [
    "## Problem 3"
   ]
  },
  {
   "cell_type": "code",
   "execution_count": 16,
   "metadata": {},
   "outputs": [
    {
     "name": "stdout",
     "output_type": "stream",
     "text": [
      "Bumping market rates\n",
      "R_swap_bump: 0.03404947895710521, S_swap_bump: 8.568168255284139\n",
      "DV01 for swap 15 when bumping market rates for idx: 15 is: 8.523524423376127\n",
      "DV01 when bumping each market rate separately: [ 3.60836842e-02 -1.17032266e-02 -1.17032266e-02 -1.17032266e-02\n",
      " -1.17032266e-02 -1.17032266e-02  1.71023398e-02 -1.17032266e-02\n",
      " -1.17032266e-02 -1.17032266e-02 -3.93801435e-03  3.32223542e-02\n",
      " -2.50657276e-02  3.55668907e-02  1.64457072e-02  8.52352442e+00\n",
      "  2.29442314e-02 -1.07221089e-02  7.94221131e-03]\n"
     ]
    },
    {
     "ename": "TypeError",
     "evalue": "market_rate_bump() got an unexpected keyword argument 'resolution'",
     "output_type": "error",
     "traceback": [
      "\u001b[0;31m---------------------------------------------------------------------------\u001b[0m",
      "\u001b[0;31mTypeError\u001b[0m                                 Traceback (most recent call last)",
      "Cell \u001b[0;32mIn[16], line 23\u001b[0m\n\u001b[1;32m     21\u001b[0m \u001b[38;5;28mprint\u001b[39m(\u001b[38;5;124mf\u001b[39m\u001b[38;5;124m\"\u001b[39m\u001b[38;5;124mDV01 when bumping each market rate separately: \u001b[39m\u001b[38;5;132;01m{\u001b[39;00m\u001b[38;5;241m10000\u001b[39m\u001b[38;5;241m*\u001b[39mDV01_bump\u001b[38;5;132;01m}\u001b[39;00m\u001b[38;5;124m\"\u001b[39m)\n\u001b[1;32m     22\u001b[0m \u001b[38;5;66;03m# DV01 when bumping all of the market rates\u001b[39;00m\n\u001b[0;32m---> 23\u001b[0m p_bump, R_bump, f_bump, T_bump, data_bump \u001b[38;5;241m=\u001b[39m fid\u001b[38;5;241m.\u001b[39mmarket_rate_bump(idx_bump_all,size_bump,data,interpolation_options \u001b[38;5;241m=\u001b[39m interpolation_options,resolution \u001b[38;5;241m=\u001b[39m \u001b[38;5;241m1\u001b[39m)\n\u001b[1;32m     24\u001b[0m R_swap_bump, S_swap_bump \u001b[38;5;241m=\u001b[39m fid\u001b[38;5;241m.\u001b[39mswap_rate_from_zcb_prices(\u001b[38;5;241m0\u001b[39m,\u001b[38;5;241m0\u001b[39m,data[swap_id][\u001b[38;5;124m\"\u001b[39m\u001b[38;5;124mmaturity\u001b[39m\u001b[38;5;124m\"\u001b[39m],\u001b[38;5;124m\"\u001b[39m\u001b[38;5;124mannual\u001b[39m\u001b[38;5;124m\"\u001b[39m,T_inter,p_bump)\n\u001b[1;32m     25\u001b[0m \u001b[38;5;28mprint\u001b[39m(\u001b[38;5;124mf\u001b[39m\u001b[38;5;124m\"\u001b[39m\u001b[38;5;124mR_swap_bump: \u001b[39m\u001b[38;5;132;01m{\u001b[39;00mR_swap_bump\u001b[38;5;132;01m}\u001b[39;00m\u001b[38;5;124m, S_swap_bump: \u001b[39m\u001b[38;5;132;01m{\u001b[39;00mS_swap_bump\u001b[38;5;132;01m}\u001b[39;00m\u001b[38;5;124m\"\u001b[39m)\n",
      "\u001b[0;31mTypeError\u001b[0m: market_rate_bump() got an unexpected keyword argument 'resolution'"
     ]
    }
   ],
   "source": [
    "# Problem 3 - Bumping market rates and finding the DV01 of a swap\n",
    "print(f\"Bumping market rates\")\n",
    "def dv01_market_rate_bump_fct(t,T_n,T_N,fixed_freq,R_swap_init,idx_bump,size_bump,data,interpolation_options):\n",
    "    p_bump, R_bump, f_bump, T_bump, data_bump = fid.market_rate_bump(idx_bump,size_bump,T_inter,data,interpolation_options = interpolation_options)\n",
    "    R_swap_bump, S_swap_bump = fid.swap_rate_from_zcb_prices(0,0,T_N,fixed_freq,T_bump,p_bump)\n",
    "    DV01 = (R_swap_bump-R_swap_init)*S_swap_bump\n",
    "    return DV01\n",
    "\n",
    "# DV01 when bumping a single market rate\n",
    "idx_bump_single = 15\n",
    "p_bump, R_bump, f_bump, T_bump, data_bump = fid.market_rate_bump(idx_bump_single,size_bump,T_inter,data,interpolation_options = interpolation_options)\n",
    "R_swap_bump, S_swap_bump = fid.swap_rate_from_zcb_prices(0,0,data[swap_id][\"maturity\"],\"annual\",T_inter,p_bump)\n",
    "print(f\"R_swap_bump: {R_swap_bump}, S_swap_bump: {S_swap_bump}\")\n",
    "DV01 = (R_swap_bump-data[swap_id][\"rate\"])*S_swap_bump\n",
    "print(f\"DV01 for swap {swap_id} when bumping market rates for idx: {idx_bump_single} is: {10000*DV01}\")\n",
    "# DV01 when bumping each of the market rates\n",
    "idx_bump_all = np.array([i for i in range(0,19)])\n",
    "DV01_bump = np.zeros([19])\n",
    "for i, idx in enumerate(idx_bump_all):\n",
    "    DV01_bump[i] = dv01_market_rate_bump_fct(0,0,data[swap_id][\"maturity\"],\"annual\",data[swap_id][\"rate\"],idx,size_bump,data,interpolation_options)\n",
    "print(f\"DV01 when bumping each market rate separately: {10000*DV01_bump}\")\n",
    "# DV01 when bumping all of the market rates\n",
    "p_bump, R_bump, f_bump, T_bump, data_bump = fid.market_rate_bump(idx_bump_all,size_bump,data,interpolation_options = interpolation_options,resolution = 1)\n",
    "R_swap_bump, S_swap_bump = fid.swap_rate_from_zcb_prices(0,0,data[swap_id][\"maturity\"],\"annual\",T_inter,p_bump)\n",
    "print(f\"R_swap_bump: {R_swap_bump}, S_swap_bump: {S_swap_bump}\")\n",
    "DV01 = (R_swap_bump-data[swap_id][\"rate\"])*S_swap_bump\n",
    "print(f\"DV01 for swap {swap_id} when bumping spot_rates for idx: {idx_bump_all} is: {10000*DV01}\")"
   ]
  },
  {
   "cell_type": "markdown",
   "metadata": {},
   "source": [
    "### Problem 4\n",
    "\n",
    "If we have price or implied volatility we can price a swaption using Blacks Formula, else we have to simulate the shortrate until the maturity to find ZCB prices and calculate the payer swaption\n",
    "\n",
    "1Y6Y - exercise 1 year from now, underlying is a 6 year payer swap. Swaption is a regular call option. At exercise it is just the diff between swap rate and "
   ]
  },
  {
   "cell_type": "code",
   "execution_count": null,
   "metadata": {},
   "outputs": [],
   "source": []
  },
  {
   "cell_type": "markdown",
   "metadata": {},
   "source": [
    "# Last year's code"
   ]
  },
  {
   "cell_type": "code",
   "execution_count": 5,
   "metadata": {},
   "outputs": [
    {
     "ename": "AttributeError",
     "evalue": "module 'fixed_income_derivatives_E2024' has no attribute 'spot_rate_bump'",
     "output_type": "error",
     "traceback": [
      "\u001b[0;31m---------------------------------------------------------------------------\u001b[0m",
      "\u001b[0;31mAttributeError\u001b[0m                            Traceback (most recent call last)",
      "Cell \u001b[0;32mIn[5], line 40\u001b[0m\n\u001b[1;32m     34\u001b[0m     \u001b[38;5;66;03m# S_swap[i] = fid.zcb_to_accrual_factor(0,T_swap[i],\"semiannual\",T_inter,p_inter)\u001b[39;00m\n\u001b[1;32m     35\u001b[0m     \u001b[38;5;66;03m# R_swap[i] = fid.zcb_to_par_swap_rate(0,T_swap[i],\"semiannual\",T_inter,p_inter)\u001b[39;00m\n\u001b[1;32m     36\u001b[0m \n\u001b[1;32m     37\u001b[0m \u001b[38;5;66;03m# b) Risk management of a swap position\u001b[39;00m\n\u001b[1;32m     38\u001b[0m \u001b[38;5;66;03m# DVO1 when bumping one point\u001b[39;00m\n\u001b[1;32m     39\u001b[0m idx_swap, T_bump, size_bump \u001b[38;5;241m=\u001b[39m \u001b[38;5;241m15\u001b[39m, \u001b[38;5;241m2\u001b[39m, \u001b[38;5;241m0.0001\u001b[39m\n\u001b[0;32m---> 40\u001b[0m R_inter_bump, p_inter_bump \u001b[38;5;241m=\u001b[39m fid\u001b[38;5;241m.\u001b[39mspot_rate_bump(T_bump,size_bump,T_inter,R_inter,p_inter)\n\u001b[1;32m     41\u001b[0m S_swap_bump \u001b[38;5;241m=\u001b[39m fid\u001b[38;5;241m.\u001b[39mzcb_to_accrual_factor(\u001b[38;5;241m0\u001b[39m,data[idx_swap][\u001b[38;5;124m\"\u001b[39m\u001b[38;5;124mmaturity\u001b[39m\u001b[38;5;124m\"\u001b[39m],\u001b[38;5;124m\"\u001b[39m\u001b[38;5;124msemiannual\u001b[39m\u001b[38;5;124m\"\u001b[39m,T_inter,p_inter_bump)\n\u001b[1;32m     42\u001b[0m R_swap_bump \u001b[38;5;241m=\u001b[39m fid\u001b[38;5;241m.\u001b[39mzcb_to_par_swap_rate(\u001b[38;5;241m0\u001b[39m,data[idx_swap][\u001b[38;5;124m\"\u001b[39m\u001b[38;5;124mmaturity\u001b[39m\u001b[38;5;124m\"\u001b[39m],\u001b[38;5;124m\"\u001b[39m\u001b[38;5;124msemiannual\u001b[39m\u001b[38;5;124m\"\u001b[39m,T_inter,p_inter_bump)\n",
      "\u001b[0;31mAttributeError\u001b[0m: module 'fixed_income_derivatives_E2024' has no attribute 'spot_rate_bump'"
     ]
    }
   ],
   "source": [
    "EURIBOR_fixing = [{\"id\": 0,\"instrument\": \"libor\",\"maturity\": 1/2, \"rate\":0.03478}]\n",
    "fra_market = [{\"id\": 1,\"instrument\": \"fra\",\"exercise\": 1/12,\"maturity\": 7/12, \"rate\": 0.03743},\n",
    "{\"id\": 2,\"instrument\": \"fra\",\"exercise\": 2/12,\"maturity\": 8/12, \"rate\": 0.03871},\n",
    "{\"id\": 3,\"instrument\": \"fra\",\"exercise\": 3/12,\"maturity\": 9/12, \"rate\": 0.03989},\n",
    "{\"id\": 4,\"instrument\": \"fra\",\"exercise\": 4/12,\"maturity\": 10/12, \"rate\": 0.04098},\n",
    "{\"id\": 5,\"instrument\": \"fra\",\"exercise\": 5/12,\"maturity\": 11/12, \"rate\": 0.04198},\n",
    "{\"id\": 6,\"instrument\": \"fra\",\"exercise\": 6/12,\"maturity\": 12/12, \"rate\": 0.04289},\n",
    "{\"id\": 7,\"instrument\": \"fra\",\"exercise\": 7/12,\"maturity\": 13/12, \"rate\": 0.04374},\n",
    "{\"id\": 8,\"instrument\": \"fra\",\"exercise\": 8/12,\"maturity\": 14/12, \"rate\": 0.04452},\n",
    "{\"id\": 9,\"instrument\": \"fra\",\"exercise\": 9/12,\"maturity\": 15/12, \"rate\": 0.04524}]\n",
    "swap_market = [{\"id\": 10,\"instrument\": \"swap\",\"maturity\": 2, \"rate\": 0.04377, \"float_freq\": \"semiannual\", \"fixed_freq\": \"semiannual\",\"indices\": []},\n",
    "{\"id\": 11,\"instrument\": \"swap\",\"maturity\": 3, \"rate\": 0.04625, \"float_freq\": \"semiannual\", \"fixed_freq\": \"semiannual\",\"indices\": []},\n",
    "{\"id\": 12,\"instrument\": \"swap\",\"maturity\": 4, \"rate\": 0.04777, \"float_freq\": \"semiannual\", \"fixed_freq\": \"semiannual\",\"indices\": []},\n",
    "{\"id\": 13,\"instrument\": \"swap\",\"maturity\": 5, \"rate\": 0.04875, \"float_freq\": \"semiannual\", \"fixed_freq\": \"semiannual\",\"indices\": []},\n",
    "{\"id\": 14,\"instrument\": \"swap\",\"maturity\": 7, \"rate\": 0.04992, \"float_freq\": \"semiannual\", \"fixed_freq\": \"semiannual\",\"indices\": []},\n",
    "{\"id\": 15,\"instrument\": \"swap\",\"maturity\": 10, \"rate\": 0.05081, \"float_freq\": \"semiannual\", \"fixed_freq\": \"semiannual\",\"indices\": []},\n",
    "{\"id\": 16,\"instrument\": \"swap\",\"maturity\": 15, \"rate\": 0.05148, \"float_freq\": \"semiannual\", \"fixed_freq\": \"semiannual\",\"indices\": []},\n",
    "{\"id\": 17,\"instrument\": \"swap\",\"maturity\": 20, \"rate\": 0.05181, \"float_freq\": \"semiannual\", \"fixed_freq\": \"semiannual\",\"indices\": []},\n",
    "{\"id\": 18,\"instrument\": \"swap\",\"maturity\": 30, \"rate\": 0.05211, \"float_freq\": \"semiannual\", \"fixed_freq\": \"semiannual\",\"indices\": []}]\n",
    "data = EURIBOR_fixing + fra_market + swap_market\n",
    "\n",
    "# a) Fitting the ZCB term structure\n",
    "# interpolation_options = {\"method\": \"linear\"}\n",
    "interpolation_options = {\"method\":\"hermite\",\"degree\":3}\n",
    "\n",
    "T_fit, R_fit = fid.zcb_curve_fit(data,interpolation_options = interpolation_options)\n",
    "p_inter, R_inter, f_inter, T_inter = fid.zcb_curve_interpolate(T_fit,R_fit,interpolation_options = interpolation_options,resolution = 1)\n",
    "\n",
    "# Plotting the par swap rate curve\n",
    "T_swap = np.array([i for i in range(1,31)])\n",
    "R_swap, S_swap = np.zeros([len(T_swap)]), np.zeros([len(T_swap)])\n",
    "for i, maturity in enumerate(T_swap):\n",
    "    R_swap[i], S_swap[i] = fid.swap_rate_from_zcb_prices(0,0,T_swap[i],\"annual\",T_inter,p_inter)\n",
    "    # S_swap[i] = fid.zcb_to_accrual_factor(0,T_swap[i],\"semiannual\",T_inter,p_inter)\n",
    "    # R_swap[i] = fid.zcb_to_par_swap_rate(0,T_swap[i],\"semiannual\",T_inter,p_inter)\n",
    "\n",
    "# b) Risk management of a swap position\n",
    "# DVO1 when bumping one point\n",
    "idx_swap, T_bump, size_bump = 15, 2, 0.0001\n",
    "R_inter_bump, p_inter_bump = fid.spot_rate_bump(T_bump,size_bump,T_inter,R_inter,p_inter)\n",
    "S_swap_bump = fid.zcb_to_accrual_factor(0,data[idx_swap][\"maturity\"],\"semiannual\",T_inter,p_inter_bump)\n",
    "R_swap_bump = fid.zcb_to_par_swap_rate(0,data[idx_swap][\"maturity\"],\"semiannual\",T_inter,p_inter_bump)\n",
    "DV01 = (R_swap_bump-data[idx_swap][\"rate\"])*S_swap_bump\n",
    "print(f\"DV01 for the swap with maturity: {data[idx_swap]['maturity']} when bumping spot rate at T: {T_bump} by {10000*size_bump} bps is {10000*DV01} bps\")\n",
    "\n",
    "# DV01 when bumping entire spot rate curve\n",
    "idx_swap, size_bump = 15, -0.0001\n",
    "R_inter_bump, p_inter_bump = fid.spot_rate_bump(T_inter,size_bump,T_inter,R_inter,p_inter)\n",
    "S_swap_bump = fid.zcb_to_accrual_factor(0,data[idx_swap][\"maturity\"],\"semiannual\",T_inter,p_inter_bump)\n",
    "R_swap_bump = fid.zcb_to_par_swap_rate(0,data[idx_swap][\"maturity\"],\"semiannual\",T_inter,p_inter_bump)\n",
    "DV01 = (R_swap_bump-data[idx_swap][\"rate\"])*S_swap_bump\n",
    "print(f\"DV01 for the swap with maturity: {data[idx_swap]['maturity']} when bumping entire spot rate curve is {10000*DV01} bps\")\n",
    "\n",
    "# DV01 for bumping one of the swaps\n",
    "idx_swap, idx_bump, size_bump = 15, 15, -0.0001\n",
    "p_inter_bump, R_inter_bump, f_inter_bump, T_inter_bump, data_bump = fid.market_rate_bump(idx_bump,size_bump,data,interpolation_options = interpolation_options,resolution = 1)\n",
    "S_swap_bump = fid.zcb_to_accrual_factor(0,data_bump[idx_swap][\"maturity\"],\"semiannual\",T_inter,p_inter_bump)\n",
    "R_swap_bump = fid.zcb_to_par_swap_rate(0,data_bump[idx_swap][\"maturity\"],\"semiannual\",T_inter_bump,p_inter_bump)\n",
    "DV01 = (R_swap_bump-data[idx_swap][\"rate\"])*S_swap_bump\n",
    "print(f\"DV01 for the swap with maturity: {data[idx_swap]['maturity']} when bumping the swap with maturity: {data[idx_bump]['maturity']} is {10000*DV01} bps\")\n",
    "\n",
    "# c) PnL of existing positions\n",
    "T_pos, R_pos = 6, 0.048\n",
    "swaption_price = 38  # price in bps\n",
    "S_swap_pos = fid.zcb_to_accrual_factor(0,T_pos,\"semiannual\",T_inter,p_inter)\n",
    "R_swap_pos = fid.zcb_to_par_swap_rate(0,T_pos,\"semiannual\",T_inter,p_inter)\n",
    "PnL = (R_swap_pos-R_pos)*S_swap_pos\n",
    "print(f\"6Y par swap rate: {R_swap_pos}, S_swap: {S_swap_pos}, PnL of position in 7Y payer swap after one year: {10000*PnL} in bps.\")\n",
    "print(f\"Market value of payer swaption now at exercise: {10000*PnL}, PnL of position in swaption: {10000*PnL-swaption_price}.\")\n",
    "\n",
    "\n",
    "T_set, T_mat, R_pos = 3, 8, 0.051\n",
    "S_swap_pos = fid.zcb_to_accrual_factor(T_set,T_mat,\"semiannual\",T_inter,p_inter)\n",
    "R_swap_pos = fid.zcb_to_par_swap_rate(T_set,T_mat,\"semiannual\",T_inter,p_inter)\n",
    "PnL = (R_pos - R_swap_pos)*S_swap_pos\n",
    "print(f\"3Y5Y forward par swap rate: {R_swap_pos}, PnL of position in : {10000*PnL}.\")\n",
    "\n",
    "\n",
    "\n",
    "\n",
    "fig = plt.figure(constrained_layout=False, dpi = 300, figsize = (5,3))\n",
    "fig.suptitle(f\"Calibrated zero coupon spot rates\", fontsize = 9)\n",
    "gs = fig.add_gridspec(nrows=1,ncols=1,left=0.12,bottom=0.2,right=0.88,top=0.90,wspace=0,hspace=0)\n",
    "ax = fig.add_subplot(gs[0,0])\n",
    "xticks = [0,1,2,3,4,5,7,10,15,20,30]\n",
    "ax.set_xticks(xticks)\n",
    "ax.set_xticklabels(xticks,fontsize = 6)\n",
    "ax.set_xlim([xticks[0]+-0.2,xticks[-1]+0.2])\n",
    "plt.xlabel(f\"Maturity\",fontsize = 6)\n",
    "ax.set_yticks([0,0.01,0.02,0.03,0.04,0.05,0.06])\n",
    "ax.set_yticklabels([0,0.01,0.02,0.03,0.04,0.05,0.06],fontsize = 6)\n",
    "ax.set_ylim([0,0.0625])\n",
    "plt.grid(axis = 'y', which='major', color=(0.7,0.7,0.7,0), linestyle='--')\n",
    "p1 = ax.scatter(T_inter[1:], R_inter[1:], s = 1, color = 'black', marker = \".\",label=\"Spot rates\")\n",
    "p2 = ax.scatter(T_inter[1:], f_inter[1:], s = 1, color = 'red', marker = \".\",label=\"forward rates\")\n",
    "p3 = ax.scatter(T_swap, R_swap, s = 1, color = 'green', marker = \".\",label=\"par swap rates\")\n",
    "plots = [p1,p2,p3]\n",
    "labels = [item.get_label() for item in plots]\n",
    "ax.legend(plots,labels,loc=\"lower right\",fontsize = 6)\n",
    "\n",
    "plt.show()"
   ]
  },
  {
   "cell_type": "code",
   "execution_count": null,
   "metadata": {},
   "outputs": [
    {
     "ename": "NameError",
     "evalue": "name 'R_curve' is not defined",
     "output_type": "error",
     "traceback": [
      "\u001b[0;31m---------------------------------------------------------------------------\u001b[0m",
      "\u001b[0;31mNameError\u001b[0m                                 Traceback (most recent call last)",
      "Cell \u001b[0;32mIn[7], line 3\u001b[0m\n\u001b[1;32m      1\u001b[0m \u001b[38;5;66;03m# DV01 for bumping one point on the spot curve\u001b[39;00m\n\u001b[1;32m      2\u001b[0m idx_bump, swap_dv, bump \u001b[38;5;241m=\u001b[39m \u001b[38;5;241m59\u001b[39m, \u001b[38;5;241m8\u001b[39m, \u001b[38;5;241m0.0001\u001b[39m\n\u001b[0;32m----> 3\u001b[0m R_bump \u001b[38;5;241m=\u001b[39m R_curve\u001b[38;5;241m.\u001b[39mcopy()\n\u001b[1;32m      4\u001b[0m R_bump[idx_bump] \u001b[38;5;241m+\u001b[39m\u001b[38;5;241m=\u001b[39m bump\n\u001b[1;32m      5\u001b[0m p_bump \u001b[38;5;241m=\u001b[39m fid\u001b[38;5;241m.\u001b[39mspot_rates_to_zcb(T_curve,R_bump)\n",
      "\u001b[0;31mNameError\u001b[0m: name 'R_curve' is not defined"
     ]
    }
   ],
   "source": [
    "# DV01 for bumping one point on the spot curve\n",
    "idx_bump, swap_dv, bump = 59, 8, 0.0001\n",
    "R_bump = R_curve.copy()\n",
    "R_bump[idx_bump] += bump\n",
    "p_bump = fid.spot_rates_to_zcb(T_curve,R_bump)\n",
    "S_swap = 0\n",
    "for idx in swap_market[swap_dv][\"indices\"]:\n",
    "    S_swap += 0.5*p_bump[idx]\n",
    "R_swap = (1-p_bump[swap_market[swap_dv][\"indices\"][-1]])/S_swap\n",
    "DV01 = (R_swap-swap_market[swap_dv][\"rate\"])*S_swap\n",
    "print(f\"DV01 for swap {swap_dv} when bumping spot_rate: {idx_bump} is: {10000*DV01} bps\")\n",
    "\n",
    "# DV01 for bumping entire the spot curve\n",
    "swap_dv, bump = 8, 0.0001\n",
    "R_bump = R_curve.copy()\n",
    "R_bump += bump*np.ones([len(R_bump)])\n",
    "p_bump = fid.spot_rates_to_zcb(T_curve,R_bump)\n",
    "S_swap = 0\n",
    "for idx in swap_market[swap_dv][\"indices\"]:\n",
    "    S_swap += 0.5*p_bump[idx]\n",
    "R_swap = (1-p_bump[swap_market[swap_dv][\"indices\"][-1]])/S_swap\n",
    "DV01 = (R_swap-swap_market[swap_dv][\"rate\"])*S_swap\n",
    "print(f\"DV01 for swap {swap_dv} when bumping entire spot curve is: {10000*DV01} bps, S_swap: {S_swap}\")\n",
    "\n",
    "# DV01 for bumping one of the swaps\n",
    "swap_bump, swap_dv, bump = 4, 8, 0.0001\n",
    "swap_market_bump = copy.deepcopy(swap_market)\n",
    "swap_market_bump[swap_bump][\"rate\"] += 0.0001\n",
    "data_bump = EURIBOR_fixing + fra_market + swap_market_bump\n",
    "T_bump, R_bump, data_bump = fid.zcb_curve_fit(data_bump)\n",
    "p_bump = fid.spot_rates_to_zcb(T_bump,R_bump)\n",
    "S_swap = 0\n",
    "for idx in swap_market_bump[swap_dv][\"indices\"]:\n",
    "    S_swap += 0.5*p_bump[idx]\n",
    "R_swap = (1-p_bump[swap_market_bump[swap_dv][\"indices\"][-1]])/S_swap\n",
    "DV01 = (R_swap-swap_market[swap_dv][\"rate\"])*S_swap\n",
    "print(f\"DV01 for swap {swap_dv} when bumping market rate for: {swap_bump} is: {10000*DV01} bps\")\n"
   ]
  },
  {
   "cell_type": "code",
   "execution_count": null,
   "metadata": {},
   "outputs": [],
   "source": [
    "# T_inter = [i*1/12 for i in range(1,12*30)]\n",
    "# R_inter = fid.interpolate(T_curve,R_curve,T_inter,interpolation_options)\n",
    "# p_inter = fid.spot_rates_to_zcb(T_inter,R_inter)\n",
    "# f_inter = fid.zcb_to_forward_rates(T_inter,p_inter,horizon = 0)"
   ]
  }
 ],
 "metadata": {
  "kernelspec": {
   "display_name": "base",
   "language": "python",
   "name": "python3"
  },
  "language_info": {
   "codemirror_mode": {
    "name": "ipython",
    "version": 3
   },
   "file_extension": ".py",
   "mimetype": "text/x-python",
   "name": "python",
   "nbconvert_exporter": "python",
   "pygments_lexer": "ipython3",
   "version": "3.11.8"
  }
 },
 "nbformat": 4,
 "nbformat_minor": 2
}
