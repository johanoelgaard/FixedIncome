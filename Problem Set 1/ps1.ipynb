{
 "cells": [
  {
   "cell_type": "code",
   "execution_count": 1,
   "metadata": {},
   "outputs": [],
   "source": [
    "import sys\n",
    "import os\n",
    "import numpy as np\n",
    "import matplotlib.pyplot as plt\n",
    "\n",
    "# add the directory where fixed_income_derivatives.py is located to the system path\n",
    "sys.path.append(os.path.abspath(\"../Files\"))\n",
    "\n",
    "# import own module\n",
    "import fixed_income_derivatives_E2024 as fid\n",
    "\n",
    "%load_ext autoreload\n",
    "%autoreload 2"
   ]
  },
  {
   "cell_type": "markdown",
   "metadata": {},
   "source": [
    "## Problem 1\n",
    "In this problem, we will examine an interest rate payer swap where payments to the floating leg are more frequent than payments to the fixed leg. Assume that we consider an interest rate swap that pays coupons of size $ R $ to the fixed leg $ I $ times a year, pays simple LIBOR rate coupons to the floating leg $ J $ times a year, matures in exactly $ N $ years, and has a principal of $ K $. Also assume that $ M = \\frac{J}{I} $ and $ N $ are positive integers. If it helps, you can think of $ I = 2 $, $ J = 4 $, and $ N = 10 $.\n",
    "\n",
    "Initially, we will consider the interest rate swap at time of issuance at $( t = T_0 = 0 )$. Denote the times of coupon payments to the floating leg by $ T_1, T_2, \\dots, T_{JN} $, corresponding to fixings announced at times $( T_0, T_1, \\dots, T_{JN−1} )$, and denote the LIBOR rate announced at time $ T_i $ to be paid at time $ T_{i+1} $ by $ L(T_i, T_{i+1}) $. Finally, we assume that zero coupon bond prices $ p(t, T) $ are available for all $ T \\geq 0 $.\n"
   ]
  },
  {
   "cell_type": "markdown",
   "metadata": {},
   "source": [
    "##### (a) Find an expression for the value of the fixed leg.\n",
    "The present value of the fixed leg ignoring repayment of the principal is\n",
    "$$\n",
    "P_{\\text{fixed}} = K R \\sum_{i=1}^{I \\cdot N} p(t, T_{iM})(T_{iM} - T_{(i-1)M}) = S_0 R K\n",
    "$$"
   ]
  },
  {
   "cell_type": "markdown",
   "metadata": {},
   "source": [
    "##### (b) Find an expression for the value of the floating leg.\n",
    "The present value of the floating leg ignoring repayment of the principal is\n",
    "\\begin{align*}\n",
    "P_{\\text{float}} &= \\sum_{i=1}^{J\\cdot N} p(t,T_i)(T_i-T_{i-1})L(T_{(i-1)},T_i)K \\\\ \n",
    "&= \\sum_{i=1}^{J\\cdot N} K[p(t,T_{i-1})p(t,T_i)L(T_{(i-1)},T_i)] \\\\ \n",
    "&= K [p(t,T_0) - p(t,T_{JN})]\n",
    "\\end{align*}"
   ]
  },
  {
   "cell_type": "markdown",
   "metadata": {},
   "source": [
    "##### (c) Find an expression for the par swap rate and identify for each of the elements of the expression, if they originate from the fixed or the floating leg.\n",
    "The par swap rate then can be found by setting $PV_{float} − PV_{fixed} = 0$\n",
    "$$\n",
    "R^*_0 = \\frac{p(t,T_0) - p(t, T_{JN})}{\\sum_{i=1}^{I \\cdot N} p(t, T_i)(T_{iM}-T_{(i-1)M})}\n",
    "$$\n",
    "The numerator comes from the floating leg, and the denominator comes from the fixed leg."
   ]
  },
  {
   "cell_type": "markdown",
   "metadata": {},
   "source": [
    "##### (d) Find an expression for the accrual factor and identify for each of the elements of the expression, if they originate from the fixed or the floating leg.\n",
    "The accrual factor, $S_0$ is the denominator of the par swap rate and comes solely from the fixed leg\n",
    "$$\n",
    "S_0 = \\sum_{i=1}^{I \\cdot N} p(t, T_{iM})(T_{iM} - T_{(i-1)M})\n",
    "$$"
   ]
  },
  {
   "cell_type": "markdown",
   "metadata": {},
   "source": [
    "##### (e) Compare the par swap rate and the accrual factor you found to the case where coupons to both the fixed and floating legs occur at the same time.\n",
    "The par swap rate and the accrual factors are essentially the same whether or not the cash flows to the fixed and floating legs occur simultaneously or not."
   ]
  },
  {
   "cell_type": "markdown",
   "metadata": {},
   "source": [
    "---"
   ]
  },
  {
   "cell_type": "markdown",
   "metadata": {},
   "source": [
    "Now assume that some time has passed and that $ t $ is in-between coupon dates on the floating leg. Specifically, assume that a little more than one year has passed, so that $ T_J < t < T_{J+1} $. The question is now slightly complicated by the fact that the fixing at time $ T_J $ has already been announced and that the coupon $ L(T_J , T_{J+1}) $ to the floating leg at time $ T_{J+1} $ is already known."
   ]
  },
  {
   "cell_type": "markdown",
   "metadata": {},
   "source": [
    "##### (f) Find an expression for the value of the fixed leg.\n",
    "Now that time has passed, the first payment to the fixed leg occurs at time J + M and the values of the floating leg becomes\n",
    "$$\n",
    "P_{\\text{fixed}} = K R \\sum_{i=(J/M)+1}^{I \\cdot N} p(t, T_{iM})(T_{iM} - T_{(i-1)M}) = S_t R K\n",
    "$$"
   ]
  },
  {
   "cell_type": "markdown",
   "metadata": {},
   "source": [
    "##### (g) Find an expression for the value of the floating leg.\n",
    "The floating leg is now a bit different since we have to take into account the fixing and corresponding\n",
    "cash flow announced at time $T_J$\n",
    "\\begin{align*}\n",
    "P_{\\text{float}} &= \\sum_{i=J+1}^{J\\cdot N} p(t,T_i)(T_i-T_{i-1})L(T_{(i-1)},T_i)K \\\\ \n",
    "&= p(t,T_{J+1})(T_{J+1}-T_J)L(T_{J},T_{J+1})K + \\sum_{i=J+2}^{J\\cdot N} K[p(t,T_{i-1})-p(t,T_i)] \\\\\n",
    "&= p(t,T_{J+1})(T_{J+1}-T_J)L(T_{J},T_{J+1})K + K[p(t,T_{J+1})-p(t,T_{JN})] \\\\\n",
    "&= K(T_{J+1}-T_J) \\times (\\text{ZCB price of float coupon recieved at } T_{J+1}) \\\\ \n",
    "&\\qquad \\times (\\text{Floating coupon received at } T_{J+1}) \\\\\n",
    "&\\qquad + K \\times (\\text{ZCB price } T= \\text{time of first fixing after t}) \\\\\n",
    "&\\qquad - K\\times (\\text{ZCB price } T= \\text{time of last cash flow floating leg after t})\n",
    "\\end{align*} "
   ]
  },
  {
   "cell_type": "markdown",
   "metadata": {},
   "source": [
    "##### (h) Find an expression for the par swap rate and the accrual factor.\n",
    "The par swap rate is yet again found be setting $PV_{float} − PV_{fixed} = 0$ but now also accounts for the floating coupon received at time $T_{J+1}$\n",
    "$$\n",
    "R_t^* = \\frac{p(t,T_{J+1})(T_{J+1}-T_J)L(T_J,T_{J+1}) + p(t,T_{J+1})-p(t,T_{JN})}{\\sum_{i=(J/M)+1}^{I \\cdot N} p(t, T_{iM})(T_{iM}-T_{(i-1)M})}\n",
    "$$\n",
    "\n",
    "The accrual factor St still depends solely on the fixed leg and stems from the denominator of the\n",
    "par swap rate\n",
    "\n",
    "$$\n",
    "S_t = \\sum_{i=(J/M)+1}^{I \\cdot N} p(t, T_{iM})(T_{iM}-T_{(i-1)M})\n",
    "$$"
   ]
  },
  {
   "cell_type": "markdown",
   "metadata": {},
   "source": [
    "##### (i) Find an expression for the PnL of the payer swap. Does the expression for the PnL depend on $ L(T_J , T_{J+1}) $?\n",
    "The PnL of the payer swap becomes\n",
    "\\begin{align*}\n",
    "\\text{PnL} &= p(t,T_{J+1})(T_{J+1}-T_J)L(T_J,T_{J+1})K + K[p(t,T_{J+1})-p(t,T_{JN})] \\\\ \n",
    "&\\qquad - \\sum_{i=(J/M)+1}^{I \\cdot N} p(t, T_{iM})(T_{iM}-T_{(i-1)M})R_0^* K \\\\\n",
    "&= S_t K (R_t^* - R_0^*)\n",
    "\\end{align*}\n",
    "The PnL of the payer swap depends on the principal $K$, the accrual factor $S_t$ and the change in the par swap rate. But the PnL does not depend on the first cash flow to the floating leg that was decided at time $T_J < t$ and received at time $T_{J+1}$. This means that to compute the PnL of a an interest rate swap, all we need is the par swap at time of issuance, $t = 0$, the accrual factor at time $t$ and the par swap rate at time $t$."
   ]
  },
  {
   "cell_type": "markdown",
   "metadata": {},
   "source": [
    "---"
   ]
  },
  {
   "cell_type": "markdown",
   "metadata": {},
   "source": [
    "\n",
    "## Problem 2\n",
    "\n",
    "For this problem, assume for simplicity that the year consists of 12 months each with exactly 30 days and that all payments occur at the end of day on the last day of the month. Also assume that there is no credit risk and that the principal of all bonds is 100.\n",
    "\n",
    "The date today is December 30 2019, the last day of the year, and the BBA have just at 11 AM announced the 3M LIBOR fixing to be 0.01472717 and the 6M LIBOR fixing to be 0.01893706. In addition, the following bonds are traded in the market.\n",
    "\n",
    "- i) A 3 year fixed rate bullet bond maturing December 30 2020 paying quarterly simple coupons of 4% annually and a price of 102.33689177.\n",
    "- ii) A 5 year fixed rate bullet bond maturing December 30 2020 paying semi-annual simple coupons of 5% annually and a price of 104.80430234.\n",
    "- iii) A 10 year fixed rate bullet bond maturing June 30 2021 paying semi-annual simple coupons of 5% annually and a price of 105.1615306.\n",
    "- iv) An 8 year fixed rate bullet bond maturing June 30 2021 paying quarterly simple coupons of 6% annually and a price of 105.6581905.\n",
    "- v) A 5 year fixed rate bullet bond maturing December 30 2021 paying quarterly simple coupons of 5% annually and a price of 104.028999992.\n",
    "- vi) A 30 year fixed rate bullet bond maturing December 30 2021 paying annual simple coupons of 3% annually and a price of 101.82604116."
   ]
  },
  {
   "cell_type": "markdown",
   "metadata": {},
   "source": [
    "#### (a) Set up the cashflow matrix corresponding to this information."
   ]
  },
  {
   "cell_type": "code",
   "execution_count": 2,
   "metadata": {},
   "outputs": [
    {
     "name": "stdout",
     "output_type": "stream",
     "text": [
      "Cash flow matrix: \n",
      " [[  1.     1.     1.     1.   101.     0.     0.     0.     0.  ]\n",
      " [  2.5    0.     2.5    0.   102.5    0.     0.     0.     0.  ]\n",
      " [  2.5    0.     2.5    0.     2.5    0.   102.5    0.     0.  ]\n",
      " [  1.5    1.5    1.5    1.5    1.5    1.5  101.5    0.     0.  ]\n",
      " [  1.25   1.25   1.25   1.25   1.25   1.25   1.25   1.25 101.25]\n",
      " [  3.     0.     0.     0.     3.     0.     0.     0.   103.  ]]\n",
      "Price of bonds:  [102.33689177 104.80430234 105.1615306  105.6581905  104.02899992\n",
      " 101.82604116]\n"
     ]
    }
   ],
   "source": [
    "# no. of bonds, no. of payments\n",
    "N, M = 6, 9\n",
    "\n",
    "# principal\n",
    "K = 100 \n",
    "\n",
    "# time in years\n",
    "T = np.array([0,0.25,0.5,0.75,1,1.25,1.5,1.75,2])\n",
    "\n",
    "# libor rates\n",
    "# L_3M, L_6M = 0.01472717, 0.01893706 # rates listed in the problem set\n",
    "L_3M, L_6M = 0.01570161, 0.01980204 # rates used in the solution\n",
    "\n",
    "# price of bonds\n",
    "pi = np.array([102.33689177,104.80430234,105.1615306,105.6581905,104.02899992,101.82604116])\n",
    "\n",
    "# cash flow matrix for bonds\n",
    "C = np.zeros([N,M])\n",
    "\n",
    "# interest payment (%) * principal * payments annually (because this is in pct)\n",
    "C[0,:] = [0.04*K*0.25,0.04*K*0.25,0.04*K*0.25,0.04*K*0.25,0.04*K*0.25+K,0,0,0,0]\n",
    "C[1,:] = [0.05*K*0.5,0,0.05*K*0.5,0,0.05*K*0.5+K,0,0,0,0]\n",
    "C[2,:] = [0.05*K*0.5,0,0.05*K*0.5,0,0.05*K*0.5,0,0.05*K*0.5+K,0,0]\n",
    "C[3,:] = [0.06*K*0.25,0.06*K*0.25,0.06*K*0.25,0.06*K*0.25,0.06*K*0.25,0.06*K*0.25,0.06*K*0.25+K,0,0]\n",
    "C[4,:] = [0.05*K*0.25,0.05*K*0.25,0.05*K*0.25,0.05*K*0.25,0.05*K*0.25,0.05*K*0.25,0.05*K*0.25,0.05*K*0.25,0.05*K*0.25+K]\n",
    "C[5,:] = [0.03*K*1,0,0,0,0.03*K*1,0,0,0,0.03*K*1+K]\n",
    "\n",
    "print(\"Cash flow matrix: \\n\", C)\n",
    "\n",
    "print(\"Price of bonds: \", pi)"
   ]
  },
  {
   "cell_type": "markdown",
   "metadata": {},
   "source": [
    "#### (b) Find the vector of zero coupon prices for all the times that you can based on the above information, and find the term structure of continuously compounded zero coupon spot rates (the yield curve). Report the results and plot both curves in an appropriate diagram."
   ]
  },
  {
   "cell_type": "code",
   "execution_count": 3,
   "metadata": {},
   "outputs": [
    {
     "name": "stdout",
     "output_type": "stream",
     "text": [
      "ZCB price: \n",
      " [1.         0.99608995 0.99019605 0.982703   0.97393963 0.96418421\n",
      " 0.95367016 0.94259166 0.93110895]\n",
      "Spot rates: \n",
      " [       nan 0.01567087 0.01970465 0.02326445 0.02640596 0.02917833\n",
      " 0.03162494 0.03378407 0.03568949]\n"
     ]
    }
   ],
   "source": [
    "# set up vectors\n",
    "p, r = np.ones([M]), np.zeros([M])\n",
    "\n",
    "# ZCB prices, p[0] is 1, p[1] and p[2] are calculated using the given libor rates just announced\n",
    "p[1], p[2] = 1/(1+L_3M*T[1]), 1/(1+L_6M*T[2])\n",
    "\n",
    "# constructing the left hand side of the equation by subtracting the ZCB prices from bond prices\n",
    "y = pi-p[0]*C[:,0]-p[1]*C[:,1]-p[2]*C[:,2]\n",
    "\n",
    "# choose X containing time fixings we do not have prices for (but no longer into the future than we have assets)\n",
    "x = C[:,3:]\n",
    "\n",
    "# solving the system of equations\n",
    "p[3:M] = np.linalg.solve(x,y)\n",
    "\n",
    "# using fid nb this makes period 0 nan while the formula below makes it 0\n",
    "r = fid.spot_rates_from_zcb_prices(T,p) \n",
    "\n",
    "# alternatively using the formula for spot rates form ZCB prices\n",
    "# for i in range(1,M):\n",
    "#     r[i] = -np.log(p[i])/T[i]\n",
    "\n",
    "print(\"ZCB price: \\n\", p)\n",
    "print(\"Spot rates: \\n\", r)"
   ]
  },
  {
   "cell_type": "markdown",
   "metadata": {},
   "source": [
    "#### (c) Find 3M forward rates and plot these in the diagram from (b)."
   ]
  },
  {
   "cell_type": "code",
   "execution_count": 4,
   "metadata": {},
   "outputs": [
    {
     "name": "stdout",
     "output_type": "stream",
     "text": [
      "3M Forward rates: \n",
      "[0.         0.01567087 0.02373843 0.03038404 0.03583049 0.04026783\n",
      " 0.04385799 0.04673881 0.04902746]\n"
     ]
    }
   ],
   "source": [
    "# using fid\n",
    "f_3M = fid.forward_rates_from_zcb_prices(T,p)\n",
    "\n",
    "# alternatively using the formula\n",
    "# f_3M = np.zeros([M])\n",
    "# f_3M[0] = r[0]\n",
    "# for i in range(1,M):\n",
    "#     f_3M[i] = -(np.log(p[i])-np.log(p[i-1]))/(T[i]-T[i-1])\n",
    "\n",
    "print(f'3M Forward rates: \\n{f_3M}')"
   ]
  },
  {
   "cell_type": "code",
   "execution_count": 5,
   "metadata": {},
   "outputs": [
    {
     "data": {
      "image/png": "[encoded data removed]",
      "text/plain": [
       "<Figure size 640x480 with 2 Axes>"
      ]
     },
     "metadata": {},
     "output_type": "display_data"
    }
   ],
   "source": [
    "# Plot spot and forward rates\n",
    "fig, ax1 = plt.subplots()\n",
    "\n",
    "scatter1 = ax1.scatter(T, f_3M, label='3M forward rates', alpha=0.5, marker='.')\n",
    "scatter2 = ax1.scatter(T, r, label='Spot rates', alpha=0.5, marker='.')\n",
    "ax1.set_ylim([0, 0.055])\n",
    "ax1.set_xlabel('Time to Maturity')\n",
    "ax1.set_ylabel('Rates')\n",
    "\n",
    "# Add bond prices to the plot on the right axis\n",
    "ax2 = ax1.twinx()\n",
    "scatter3 = ax2.scatter(T, p, label='ZCB prices', color='red', alpha=0.5, marker='.')\n",
    "ax2.set_ylim([0, 1.1])\n",
    "ax2.set_ylabel('Bond Prices')\n",
    "\n",
    "# Combine legends\n",
    "scatters = [scatter1, scatter2, scatter3]\n",
    "labels = [scatter.get_label() for scatter in scatters]\n",
    "ax1.legend(scatters, labels, loc='lower right')\n",
    "\n",
    "plt.title('Spot, Forward Rates and Bond Prices')\n",
    "plt.show()\n"
   ]
  },
  {
   "cell_type": "markdown",
   "metadata": {},
   "source": [
    "#### (d) Find the price of a 2-year floating rate bullet note with principal 100 paying 6M LIBOR issued today.\n",
    "The price of a newly issued floating rate bond will always be equal to the principal, here $K = 100$.\n"
   ]
  },
  {
   "cell_type": "code",
   "execution_count": 6,
   "metadata": {},
   "outputs": [
    {
     "name": "stdout",
     "output_type": "stream",
     "text": [
      "Floating rate bond price: 100.0\n"
     ]
    }
   ],
   "source": [
    "pi_float = K*p[0]\n",
    "\n",
    "print(f\"Floating rate bond price: {pi_float}\")"
   ]
  },
  {
   "cell_type": "markdown",
   "metadata": {},
   "source": [
    "#### (e) Find the par swap rate for a 2-year interest rate swap paying semi-annual fixed coupons at an annual rate $ R $ to the receiver and quarterly 3M LIBOR to the payer issued today."
   ]
  },
  {
   "cell_type": "code",
   "execution_count": 7,
   "metadata": {},
   "outputs": [
    {
     "name": "stdout",
     "output_type": "stream",
     "text": [
      "Par swap rate: 0.0357976466824958\n"
     ]
    }
   ],
   "source": [
    "# semiannual payment i.e. in periods 0.5, 1, 1.5, 2\n",
    "# discount factor/accrual factor\n",
    "R = (1-p[8])/(0.5*(p[2]+p[4]+p[6]+p[8]))\n",
    "\n",
    "print(f\"Par swap rate: {R}\")"
   ]
  },
  {
   "cell_type": "code",
   "execution_count": null,
   "metadata": {},
   "outputs": [
    {
     "data": {
      "text/plain": [
       "(0.0357976466824958, 1.9244573972631518)"
      ]
     },
     "execution_count": 8,
     "metadata": {},
     "output_type": "execute_result"
    }
   ],
   "source": [
    "# using fid (Swap rate, Accrual factor)\n",
    "fid.swap_rate_from_zcb_prices(t=0,T_n=0,T_N=2,fixed_freq='semiannual',T=T,p=p)"
   ]
  },
  {
   "cell_type": "markdown",
   "metadata": {},
   "source": [
    "#### (f) Compare the par swap rate to the forward rates you computed in (c).\n",
    "The par swap rate is a weighted average of the forward rates on the floating leg which in this case is the 3M forward rates computed and shown in the plot above."
   ]
  },
  {
   "cell_type": "markdown",
   "metadata": {},
   "source": [
    "---"
   ]
  },
  {
   "cell_type": "markdown",
   "metadata": {},
   "source": [
    "Time now passes and the date becomes January 30. 2020. From a god friend you now know that the price of zero coupon bond maturing on March 30. 2020 is $0.99699147$ and that the price of a zero coupon bond maturing on June 30. 2020 is $0.99088748$. Also assume that the two corresponding ZCB\n",
    "bonds can be constructed and traded. Due to market fluctuations, the prices of the bonds i)-vi) are\n",
    "now $[101.37241234, 102.33995192, 102.66601781, 104.16399942, 102.75471174, 98.79916103]$ and the price of the\n",
    "receiver swap from e) is now $−0.1161878302683732$"
   ]
  },
  {
   "cell_type": "markdown",
   "metadata": {},
   "source": [
    "#### (g) Set up a system of equations including the interest rate swap to compute zero coupon bond prices."
   ]
  },
  {
   "cell_type": "code",
   "execution_count": 9,
   "metadata": {},
   "outputs": [],
   "source": [
    "pi_ghi = np.array([101.37241234, 102.33995192, 102.66601781, 104.16399942, 102.75471174, 98.79916103])\n",
    "p_0_2M_ghi, p_0_5M_ghi = 0.99699147, 0.99088748\n",
    "pi_swap_ghi = -0.1161878302683732"
   ]
  },
  {
   "cell_type": "code",
   "execution_count": 10,
   "metadata": {},
   "outputs": [],
   "source": [
    "# initiating new time vector\n",
    "T_ghi = np.zeros([M])\n",
    "# setting the new time vector to be 1/12 less than the original time vector as one month has passed\n",
    "T_ghi[1:] = T[1:] - 1/12\n",
    "\n",
    "# initiating new cash flow matrix\n",
    "C_ghi = np.zeros([N,M])\n",
    "C_ghi[:,1:] = C[:,1:]"
   ]
  },
  {
   "cell_type": "code",
   "execution_count": 11,
   "metadata": {},
   "outputs": [
    {
     "name": "stdout",
     "output_type": "stream",
     "text": [
      "The cash flows to the reciever swap: \n",
      " [   0.         -100.39254025    1.78988233    0.            1.78988233\n",
      "    0.            1.78988233    0.          101.78988233]\n"
     ]
    }
   ],
   "source": [
    "C_swap = np.array([0,-0.25*K*L_3M-K,0.5*R*K,0,0.5*R*K,0,0.5*R*K,0,0.5*R*K+K])\n",
    "\n",
    "print(f'The cash flows to the reciever swap: \\n {C_swap}')"
   ]
  },
  {
   "cell_type": "markdown",
   "metadata": {},
   "source": [
    "#### (h) Solve this system of equations to find zero coupon bond prices, zero coupon bond rates, and 3M forward rates as you did in (b), and plot these."
   ]
  },
  {
   "cell_type": "code",
   "execution_count": 12,
   "metadata": {},
   "outputs": [],
   "source": [
    "p_ghi = np.ones([M])\n",
    "p_ghi[0], p_ghi[1], p_ghi[2] = 1, p_0_2M_ghi, p_0_5M_ghi\n",
    "\n",
    "# adding the new bond to the cash flow matrix\n",
    "C_ghi = np.vstack([C_ghi,C_swap])\n",
    "\n",
    "# setting up the left hand side of the equation\n",
    "y = np.hstack([pi_ghi,pi_swap_ghi]) - p_ghi[1]*C_ghi[:,1] - p_ghi[2]*C_ghi[:,2]\n",
    "\n",
    "# setting up the right hand side of the equation\n",
    "x = C_ghi[:,3:]\n",
    "\n",
    "# solving the system of equations\n",
    "p_ghi[3:] = np.linalg.solve(x.T @ x,x.T @ y)\n",
    "# p_ghi[3:] = np.linalg.solve(np.matmul(np.transpose(x),x),np.matmul(np.transpose(x),y))\n",
    "\n",
    "r_ghi, f_3M_ghi = np.zeros([M]), np.zeros([M])\n",
    "f_3M_ghi[0] = np.nan\n",
    "for i in range(1,M):\n",
    "    r_ghi[i] = -np.log(p_ghi[i])/T_ghi[i]\n",
    "    f_3M_ghi[i] = -(np.log(p_ghi[i])-np.log(p_ghi[i-1]))/(T_ghi[i]-T_ghi[i-1])\n"
   ]
  },
  {
   "cell_type": "code",
   "execution_count": 13,
   "metadata": {},
   "outputs": [
    {
     "data": {
      "text/plain": [
       "array([101.37241234, 102.33995192, 102.66601781, 104.16399942,\n",
       "       102.75471174,  98.79916103])"
      ]
     },
     "execution_count": 13,
     "metadata": {},
     "output_type": "execute_result"
    }
   ],
   "source": [
    "pi_ghi"
   ]
  },
  {
   "cell_type": "code",
   "execution_count": 14,
   "metadata": {},
   "outputs": [],
   "source": [
    "y = np.hstack([pi_ghi,pi_swap_ghi])"
   ]
  },
  {
   "cell_type": "code",
   "execution_count": 15,
   "metadata": {},
   "outputs": [
    {
     "data": {
      "text/plain": [
       "(7,)"
      ]
     },
     "execution_count": 15,
     "metadata": {},
     "output_type": "execute_result"
    }
   ],
   "source": [
    "(p_ghi[1]*C_ghi[:,1] - p_ghi[2]*C_ghi[:,2]).shape"
   ]
  },
  {
   "cell_type": "code",
   "execution_count": 16,
   "metadata": {},
   "outputs": [
    {
     "data": {
      "image/png": "[encoded data removed]",
      "text/plain": [
       "<Figure size 640x480 with 2 Axes>"
      ]
     },
     "metadata": {},
     "output_type": "display_data"
    }
   ],
   "source": [
    "# Plot spot and forward rates\n",
    "fig, ax1 = plt.subplots()\n",
    "\n",
    "scatter1 = ax1.scatter(T_ghi, f_3M_ghi, label='3M forward rates', alpha=0.5, marker='.')\n",
    "scatter2 = ax1.scatter(T_ghi, r_ghi, label='Spot rates', alpha=0.5, marker='.')\n",
    "ax1.set_ylim([0, 0.055])\n",
    "ax1.set_xlabel('Time to Maturity')\n",
    "ax1.set_ylabel('Rates')\n",
    "\n",
    "# Add bond prices to the plot on the right axis\n",
    "ax2 = ax1.twinx()\n",
    "scatter3 = ax2.scatter(T_ghi, p_ghi, label='ZCB prices', color='red', alpha=0.5, marker='.')\n",
    "ax2.set_ylim([0, 1.1])\n",
    "ax2.set_ylabel('Bond Prices')\n",
    "\n",
    "# Combine legends\n",
    "scatters = [scatter1, scatter2, scatter3]\n",
    "labels = [scatter.get_label() for scatter in scatters]\n",
    "ax1.legend(scatters, labels, loc='lower right')\n",
    "\n",
    "plt.title('Spot, Forward Rates and Bond Prices')\n",
    "plt.show()"
   ]
  },
  {
   "cell_type": "markdown",
   "metadata": {},
   "source": [
    "---"
   ]
  },
  {
   "cell_type": "markdown",
   "metadata": {},
   "source": [
    "Now instead assume that the price of the zero coupon bond maturing on March 30. 2020 is $0.99391543$,\n",
    "that the price of a zero coupon bond maturing on June 30. 2020 is $0.98379379$, that the prices of the\n",
    "6 bonds are $[100.00015573, 100.95055325, 100.77535024, 100.26763545, 100.48419302, 96.56064083]$ and that the\n",
    "price of the receiver swap is $−2.04869321$."
   ]
  },
  {
   "cell_type": "markdown",
   "metadata": {},
   "source": [
    "#### (i) Check that the market is arbitrage-free."
   ]
  },
  {
   "cell_type": "code",
   "execution_count": 17,
   "metadata": {},
   "outputs": [
    {
     "name": "stdout",
     "output_type": "stream",
     "text": [
      "Check that the market prices all assts using same vector of ZCB\n",
      "The arbitrage check is:  [-1.98787895e+00 -2.47721870e+00 -2.47721870e+00 -2.98181843e+00\n",
      " -2.48484869e+00  1.38444619e-07  9.83169341e+01]\n"
     ]
    }
   ],
   "source": [
    "print('Check that the market prices all assts using same vector of ZCB')\n",
    "arb_check = x @ p_ghi[3:]\n",
    "print(\"The arbitrage check is: \", arb_check - y)"
   ]
  },
  {
   "cell_type": "markdown",
   "metadata": {},
   "source": [
    "Since we are now in a situation where we have more assets and thus restrictions than we have free parameters, and the ZCB prices have to be estimated. This is certainly not implausible in practice and if the market is well-behaved, we should be able to recover the unique ZCB prices used to price the assets. In this case, we see that ZCB prices are positive and since the residuals $\\pi−C\\hat{p}$ are small, we conclude that the market is arbitrage free."
   ]
  },
  {
   "cell_type": "markdown",
   "metadata": {},
   "source": [
    "#### (j) Use OLS to estimate the zero coupon bond prices from market data."
   ]
  },
  {
   "cell_type": "code",
   "execution_count": 18,
   "metadata": {},
   "outputs": [
    {
     "name": "stdout",
     "output_type": "stream",
     "text": [
      "The ZCB prices are: \n",
      " [ 0.99391543  0.98379379  0.97271045  0.96088848 -0.38481898  0.93574287\n",
      "  2.25603492  0.90949491]\n"
     ]
    }
   ],
   "source": [
    "pi_jk = np.array([100.00015573, 100.95055325, 100.77535024, 100.26763545, 100.48419302, 96.56064083])\n",
    "p_0_2M_jk, p_0_5M_jk = 0.99391543, 0.98379379\n",
    "pi_swap_jk = -2.04869321\n",
    "\n",
    "C_zcb = np.zeros([2,8])\n",
    "C_zcb[0,0], C_zcb[1,1] = 1,1\n",
    "C_jk = C_ghi[:,1:]\n",
    "C_jk = np.vstack([C_zcb,C_jk])\n",
    "pi_jk = np.hstack([np.array([p_0_2M_jk]), np.array([p_0_5M_jk]), pi_jk, np.array([pi_swap_jk])])\n",
    "p_jk = np.linalg.solve(C_jk.T @ C_jk, C_jk.T @ pi_jk)\n",
    "\n",
    "print(f'The ZCB prices are: \\n {p_jk}') # one negative value in the 5th period -> arbitrage opportunity"
   ]
  },
  {
   "cell_type": "markdown",
   "metadata": {},
   "source": [
    "#### (k) Is the market arbitrage free? Try to find an arbitrage opportunity."
   ]
  },
  {
   "cell_type": "code",
   "execution_count": 19,
   "metadata": {},
   "outputs": [
    {
     "name": "stdout",
     "output_type": "stream",
     "text": [
      "Portfolio replicating the March 30, 2021 ZCB: \n",
      "[-15.56953279  -0.55344623  -1.           0.9898676   -0.65745444\n",
      "   0.66666667  -0.           0.15326448  -0.15508655]\n",
      "Cash flow of the replicating portfolio for March 30, 2021 ZCB: \n",
      "[-1.43872539e-14 -4.82011757e-13 -1.24541247e-12  5.87575084e-15\n",
      "  1.00000000e+00  1.49240685e-14 -3.35140616e-13 -2.08397170e-15]\n",
      "Price of the replicating portfolio for March 30, 2021 ZCB: \n",
      "-0.38481897588427866\n"
     ]
    }
   ],
   "source": [
    "c_zcb = np.zeros([8])\n",
    "c_zcb[4] = 1 # payoff in 5th period to replicate the ZCB\n",
    "h_jk = np.linalg.solve(C_jk @ C_jk.T, C_jk @ c_zcb.T)\n",
    "print(f'Portfolio replicating the March 30, 2021 ZCB: \\n{np.round(h_jk,8)}') # weights for portfolio replicating the ZCB\n",
    "cf_jk = h_jk.T @ C_jk\n",
    "print(f'Cash flow of the replicating portfolio for March 30, 2021 ZCB: \\n{cf_jk}') # all zero except 5th installment\n",
    "price_jk = h_jk @ pi_jk\n",
    "print(f'Price of the replicating portfolio for March 30, 2021 ZCB: \\n{price_jk}') # negative price today"
   ]
  }
 ],
 "metadata": {
  "kernelspec": {
   "display_name": "base",
   "language": "python",
   "name": "python3"
  },
  "language_info": {
   "codemirror_mode": {
    "name": "ipython",
    "version": 3
   },
   "file_extension": ".py",
   "mimetype": "text/x-python",
   "name": "python",
   "nbconvert_exporter": "python",
   "pygments_lexer": "ipython3",
   "version": "3.11.8"
  }
 },
 "nbformat": 4,
 "nbformat_minor": 2
}
