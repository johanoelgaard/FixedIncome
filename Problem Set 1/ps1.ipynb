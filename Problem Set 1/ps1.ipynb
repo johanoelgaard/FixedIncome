{
 "cells": [
  {
   "cell_type": "code",
   "execution_count": 1,
   "metadata": {},
   "outputs": [],
   "source": [
    "import numpy as np\n",
    "import matplotlib.pyplot as plt"
   ]
  },
  {
   "cell_type": "markdown",
   "metadata": {},
   "source": [
    "## Problem 1\n",
    "In this problem, we will examine an interest rate payer swap where payments to the floating leg are more frequent than payments to the fixed leg. Assume that we consider an interest rate swap that pays coupons of size $ R $ to the fixed leg $ I $ times a year, pays simple LIBOR rate coupons to the floating leg $ J $ times a year, matures in exactly $ N $ years, and has a principal of $ K $. Also assume that $ M = \\frac{J}{I} $ and $ N $ are positive integers. If it helps, you can think of $ I = 2 $, $ J = 4 $, and $ N = 10 $.\n",
    "\n",
    "Initially, we will consider the interest rate swap at time of issuance at $( t = T_0 = 0 )$. Denote the times of coupon payments to the floating leg by $ T_1, T_2, \\dots, T_{JN} $, corresponding to fixings announced at times $( T_0, T_1, \\dots, T_{JN−1} )$, and denote the LIBOR rate announced at time $ T_i $ to be paid at time $ T_{i+1} $ by $ L(T_i, T_{i+1}) $. Finally, we assume that zero coupon bond prices $ p(t, T) $ are available for all $ T \\geq 0 $.\n"
   ]
  },
  {
   "cell_type": "markdown",
   "metadata": {},
   "source": [
    "##### (a) Find an expression for the value of the fixed leg.\n",
    "The present value of the fixed leg ignoring repayment of the principal is\n",
    "$$\n",
    "P_{\\text{fixed}} = K R \\sum_{i=1}^{I \\cdot N} p(t, T_{iM})(T_{iM} - T_{(i-1)M}) = S_0 R K\n",
    "$$"
   ]
  },
  {
   "cell_type": "markdown",
   "metadata": {},
   "source": [
    "##### (b) Find an expression for the value of the floating leg.\n",
    "The present value of the floating leg ignoring repayment of the principal is\n",
    "\\begin{align*}\n",
    "P_{\\text{float}} &= \\sum_{i=1}^{J\\cdot N} p(t,T_i)(T_i-T_{i-1})L(T_{(i-1)},T_i)K \\\\ \n",
    "&= \\sum_{i=1}^{J\\cdot N} K[p(t,T_{i-1})p(t,T_i)L(T_{(i-1)},T_i)] \\\\ \n",
    "&= K [p(t,T_0) - p(t,T_{JN})]\n",
    "\\end{align*}"
   ]
  },
  {
   "cell_type": "markdown",
   "metadata": {},
   "source": [
    "##### (c) Find an expression for the par swap rate and identify for each of the elements of the expression, if they originate from the fixed or the floating leg.\n",
    "The par swap rate then can be found by setting $PV_{float} − PV_{fixed} = 0$\n",
    "$$\n",
    "R^*_0 = \\frac{p(t,T_0) - p(t, T_{JN})}{\\sum_{i=1}^{I \\cdot N} p(t, T_i)(T_{iM}-T_{(i-1)M})}\n",
    "$$\n",
    "The numerator comes from the floating leg, and the denominator comes from the fixed leg."
   ]
  },
  {
   "cell_type": "markdown",
   "metadata": {},
   "source": [
    "##### (d) Find an expression for the accrual factor and identify for each of the elements of the expression, if they originate from the fixed or the floating leg.\n",
    "The accrual factor, $S_0$ is the denominator of the par swap rate and comes solely from the fixed leg\n",
    "$$\n",
    "S_0 = \\sum_{i=1}^{I \\cdot N} p(t, T_{iM})(T_{iM} - T_{(i-1)M})\n",
    "$$"
   ]
  },
  {
   "cell_type": "markdown",
   "metadata": {},
   "source": [
    "##### (e) Compare the par swap rate and the accrual factor you found to the case where coupons to both the fixed and floating legs occur at the same time.\n",
    "The par swap rate and the accrual factors are essentially the same whether or not the cash flows to the fixed and floating legs occur simultaneously or not."
   ]
  },
  {
   "cell_type": "markdown",
   "metadata": {},
   "source": [
    "---"
   ]
  },
  {
   "cell_type": "markdown",
   "metadata": {},
   "source": [
    "Now assume that some time has passed and that $ t $ is in-between coupon dates on the floating leg. Specifically, assume that a little more than one year has passed, so that $ T_J < t < T_{J+1} $. The question is now slightly complicated by the fact that the fixing at time $ T_J $ has already been announced and that the coupon $ L(T_J , T_{J+1}) $ to the floating leg at time $ T_{J+1} $ is already known."
   ]
  },
  {
   "cell_type": "markdown",
   "metadata": {},
   "source": [
    "##### (f) Find an expression for the value of the fixed leg.\n",
    "Now that time has passed, the first payment to the fixed leg occurs at time J + M and the values of the floating leg becomes\n",
    "$$\n",
    "P_{\\text{fixed}} = K R \\sum_{i=(J/M)+1}^{I \\cdot N} p(t, T_{iM})(T_{iM} - T_{(i-1)M}) = S_t R K\n",
    "$$"
   ]
  },
  {
   "cell_type": "markdown",
   "metadata": {},
   "source": [
    "##### (g) Find an expression for the value of the floating leg.\n",
    "The floating leg is now a bit different since we have to take into account the fixing and corresponding\n",
    "cash flow announced at time $T_J$\n",
    "\\begin{align*}\n",
    "P_{\\text{float}} &= \\sum_{i=J+1}^{J\\cdot N} p(t,T_i)(T_i-T_{i-1})L(T_{(i-1)},T_i)K \\\\ \n",
    "&= p(t,T_{J+1})(T_{J+1}-T_J)L(T_{J},T_{J+1})K + \\sum_{i=J+2}^{J\\cdot N} K[p(t,T_{i-1})-p(t,T_i)] \\\\\n",
    "&= p(t,T_{J+1})(T_{J+1}-T_J)L(T_{J},T_{J+1})K + K[p(t,T_{J+1})-p(t,T_{JN})] \\\\\n",
    "&= K(T_{J+1}-T_J) \\times (\\text{ZCB price of float coupon recieved at } T_{J+1}) \\\\ \n",
    "&\\qquad \\times (\\text{Floating coupon received at } T_{J+1}) \\\\\n",
    "&\\qquad + K \\times (\\text{ZCB price } T= \\text{time of first fixing after t}) \\\\\n",
    "&\\qquad - K\\times (\\text{ZCB price } T= \\text{time of last cash flow floating leg after t})\n",
    "\\end{align*} "
   ]
  },
  {
   "cell_type": "markdown",
   "metadata": {},
   "source": [
    "##### (h) Find an expression for the par swap rate and the accrual factor.\n",
    "The par swap rate is yet again found be setting $PV_{float} − PV_{fixed} = 0$ but now also accounts for the floating coupon received at time $T_{J+1}$\n",
    "$$\n",
    "R_t^* = \\frac{p(t,T_{J+1})(T_{J+1}-T_J)L(T_J,T_{J+1}) + p(t,T_{J+1})-p(t,T_{JN})}{\\sum_{i=(J/M)+1}^{I \\cdot N} p(t, T_{iM})(T_{iM}-T_{(i-1)M})}\n",
    "$$\n",
    "\n",
    "The accrual factor St still depends solely on the fixed leg and stems from the denominator of the\n",
    "par swap rate\n",
    "\n",
    "$$\n",
    "S_t = \\sum_{i=(J/M)+1}^{I \\cdot N} p(t, T_{iM})(T_{iM}-T_{(i-1)M})\n",
    "$$"
   ]
  },
  {
   "cell_type": "markdown",
   "metadata": {},
   "source": [
    "##### (i) Find an expression for the PnL of the payer swap. Does the expression for the PnL depend on $ L(T_J , T_{J+1}) $?\n",
    "The PnL of the payer swap becomes\n",
    "\\begin{align*}\n",
    "\\text{PnL} &= p(t,T_{J+1})(T_{J+1}-T_J)L(T_J,T_{J+1})K + K[p(t,T_{J+1})-p(t,T_{JN})] \\\\ \n",
    "&\\qquad - \\sum_{i=(J/M)+1}^{I \\cdot N} p(t, T_{iM})(T_{iM}-T_{(i-1)M})R_0^* K \\\\\n",
    "&= S_t K (R_t^* - R_0^*)\n",
    "\\end{align*}\n",
    "The PnL of the payer swap depends on the principal $K$, the accrual factor $S_t$ and the change in the par swap rate. But the PnL does not depend on the first cash flow to the floating leg that was decided at time $T_J < t$ and received at time $T_{J+1}$. This means that to compute the PnL of a an interest rate swap, all we need is the par swap at time of issuance, $t = 0$, the accrual factor at time $t$ and the par swap rate at time $t$."
   ]
  },
  {
   "cell_type": "markdown",
   "metadata": {},
   "source": [
    "---"
   ]
  },
  {
   "cell_type": "markdown",
   "metadata": {},
   "source": [
    "\n",
    "## Problem 2\n",
    "\n",
    "For this problem, assume for simplicity that the year consists of 12 months each with exactly 30 days and that all payments occur at the end of day on the last day of the month. Also assume that there is no credit risk and that the principal of all bonds is 100.\n",
    "\n",
    "The date today is December 30 2019, the last day of the year, and the BBA have just at 11 AM announced the 3M LIBOR fixing to be 0.01472717 and the 6M LIBOR fixing to be 0.01893706. In addition, the following bonds are traded in the market.\n",
    "\n",
    "- i) A 3 year fixed rate bullet bond maturing December 30 2020 paying quarterly simple coupons of 4% annually and a price of 102.33689177.\n",
    "- ii) A 5 year fixed rate bullet bond maturing December 30 2020 paying semi-annual simple coupons of 5% annually and a price of 104.80430234.\n",
    "- iii) A 10 year fixed rate bullet bond maturing June 30 2021 paying semi-annual simple coupons of 5% annually and a price of 105.1615306.\n",
    "- iv) An 8 year fixed rate bullet bond maturing June 30 2021 paying quarterly simple coupons of 6% annually and a price of 105.6581905.\n",
    "- v) A 5 year fixed rate bullet bond maturing December 30 2021 paying quarterly simple coupons of 5% annually and a price of 104.028999992.\n",
    "- vi) A 30 year fixed rate bullet bond maturing December 30 2021 paying annual simple coupons of 3% annually and a price of 101.82604116."
   ]
  },
  {
   "cell_type": "markdown",
   "metadata": {},
   "source": [
    "#### (a) Set up the cashflow matrix corresponding to this information."
   ]
  },
  {
   "cell_type": "code",
   "execution_count": 2,
   "metadata": {},
   "outputs": [],
   "source": [
    "# no. of bonds, no. of payments\n",
    "N, M = 6, 9\n",
    "\n",
    "K = 100 # principal\n",
    "\n",
    "# time in years\n",
    "time = np.array([0,0.25,0.5,0.75,1,1.25,1.5,1.75,2])\n",
    "\n",
    "# libor rates\n",
    "# L_3M, L_6M = 0.01472717, 0.01893706 # LIBOR rates listed in the problem set\n",
    "L_3M, L_6M = 0.01570161, 0.01980204 # LIBOR rates used in the solution\n",
    "\n",
    "\n",
    "# pi_new = np.array([101.98667646,102.96333877,102.68122237,104.17312216,102.76231402,98.8174065])\n",
    "# p_0_2M_new, p_0_5M_new = 0.99699147, 0.99088748\n",
    "# pi_swap_new = 0.02515099\n",
    "\n",
    "# cash flow matrix for bonds\n",
    "cash_flow = np.zeros([N,M])\n",
    "# interest payment (%) X principal X payments annually\n",
    "cash_flow[0,:] = [0.04*K*0.25,0.04*K*0.25,0.04*K*0.25,0.04*K*0.25,0.04*K*0.25+K,0,0,0,0]\n",
    "cash_flow[1,:] = [0.05*K*0.5,0,0.05*K*0.5,0,0.05*K*0.5+K,0,0,0,0]\n",
    "cash_flow[2,:] = [0.05*K*0.5,0,0.05*K*0.5,0,0.05*K*0.5,0,0.05*K*0.5+K,0,0]\n",
    "cash_flow[3,:] = [0.06*K*0.25,0.06*K*0.25,0.06*K*0.25,0.06*K*0.25,0.06*K*0.25,0.06*K*0.25,0.06*K*0.25+K,0,0]\n",
    "cash_flow[4,:] = [0.05*K*0.25,0.05*K*0.25,0.05*K*0.25,0.05*K*0.25,0.05*K*0.25,0.05*K*0.25,0.05*K*0.25,0.05*K*0.25,0.05*K*0.25+K]\n",
    "cash_flow[5,:] = [0.03*K*1,0,0,0,0.03*K*1,0,0,0,0.03*K*1+K]\n",
    "\n",
    "# LIBOR cash flow matrix\n",
    "cash_flow_libor = np.zeros([3,M])\n",
    "cash_flow_libor[0,:] = [1, 0,0,0,0,0,0,0,0]\n",
    "cash_flow_libor[1,:] = [0, 1+L_3M/4,0,0,0,0,0,0,0]\n",
    "cash_flow_libor[2,:] = [0, 0,1+L_6M/2,0,0,0,0,0,0]\n",
    "\n",
    "# price of bonds\n",
    "pi = np.array([102.33689177,104.80430234,105.1615306,105.6581905,104.02899992,101.82604116])"
   ]
  },
  {
   "cell_type": "markdown",
   "metadata": {},
   "source": [
    "#### (b) Find the vector of zero coupon prices for all the times that you can based on the above information, and find the term structure of continuously compounded zero coupon spot rates (the yield curve). Report the results and plot both curves in an appropriate diagram."
   ]
  },
  {
   "cell_type": "markdown",
   "metadata": {},
   "source": [
    "#### (c) Find 3M forward rates and plot these in the diagram from (b)."
   ]
  },
  {
   "cell_type": "markdown",
   "metadata": {},
   "source": [
    "#### (d) Find the price of a 2-year floating rate bullet note with principal 100 paying 6M LIBOR issued today."
   ]
  },
  {
   "cell_type": "markdown",
   "metadata": {},
   "source": [
    "#### (e) Find the par swap rate for a 2-year interest rate swap paying semi-annual fixed coupons at an annual rate $ R $ to the receiver and quarterly 3M LIBOR to the payer issued today."
   ]
  },
  {
   "cell_type": "markdown",
   "metadata": {},
   "source": [
    "#### (f) Compare the par swap rate to the forward rates you computed in (c)."
   ]
  },
  {
   "cell_type": "markdown",
   "metadata": {},
   "source": [
    "---"
   ]
  },
  {
   "cell_type": "markdown",
   "metadata": {},
   "source": [
    "Time now passes and the date becomes January 30. 2020. From a god friend you now know that the price of zero coupon bond maturing on March 30. 2020 is $0.99699147$ and that the price of a zero coupon bond maturing on June 30. 2020 is $0.99088748$. Also assume that the two corresponding ZCB\n",
    "bonds can be constructed and traded. Due to market fluctuations, the prices of the bonds i)-vi) are\n",
    "now $[101.37241234, 102.33995192, 102.66601781, 104.16399942, 102.75471174, 98.79916103]$ and the price of the\n",
    "receiver swap from e) is now $−0.1161878302683732$"
   ]
  },
  {
   "cell_type": "markdown",
   "metadata": {},
   "source": [
    "#### (g) Set up a system of equations including the interest rate swap to compute zero coupon bond prices."
   ]
  },
  {
   "cell_type": "markdown",
   "metadata": {},
   "source": [
    "#### (h) Solve this system of equations to find zero coupon bond prices, zero coupon bond rates, and 3M forward rates as you did in (b), and plot these."
   ]
  },
  {
   "cell_type": "markdown",
   "metadata": {},
   "source": [
    "---"
   ]
  },
  {
   "cell_type": "markdown",
   "metadata": {},
   "source": [
    "Now instead assume that the price of the zero coupon bond maturing on March 30. 2020 is $0.99391543$,\n",
    "that the price of a zero coupon bond maturing on June 30. 2020 is $0.98379379$, that the prices of the\n",
    "6 bonds are $[100.00015573, 100.95055325, 100.77535024, 100.26763545, 100.48419302, 96.56064083]$ and that the\n",
    "price of the receiver swap is $−2.04869321$."
   ]
  },
  {
   "cell_type": "markdown",
   "metadata": {},
   "source": [
    "#### (i) Check that the market is arbitrage-free."
   ]
  },
  {
   "cell_type": "markdown",
   "metadata": {},
   "source": [
    "#### (j) Use OLS to estimate the zero coupon bond prices from market data."
   ]
  },
  {
   "cell_type": "markdown",
   "metadata": {},
   "source": [
    "#### (k) Is the market arbitrage free? Try to find an arbitrage opportunity."
   ]
  }
 ],
 "metadata": {
  "kernelspec": {
   "display_name": "base",
   "language": "python",
   "name": "python3"
  },
  "language_info": {
   "codemirror_mode": {
    "name": "ipython",
    "version": 3
   },
   "file_extension": ".py",
   "mimetype": "text/x-python",
   "name": "python",
   "nbconvert_exporter": "python",
   "pygments_lexer": "ipython3",
   "version": "3.11.8"
  }
 },
 "nbformat": 4,
 "nbformat_minor": 2
}
