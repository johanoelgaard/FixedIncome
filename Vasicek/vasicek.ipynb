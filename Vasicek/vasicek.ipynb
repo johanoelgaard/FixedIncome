{
 "cells": [
  {
   "cell_type": "code",
   "execution_count": null,
   "metadata": {},
   "outputs": [],
   "source": [
    "import numpy as np\n",
    "import matplotlib.pyplot as plt\n",
    "from scipy.optimize import minimize\n",
    "from scipy.stats import norm\n",
    "\n",
    "\n",
    "# add the directory where fixed_income_derivatives.py is located to the system path\n",
    "import sys\n",
    "import os\n",
    "sys.path.append(os.path.abspath(\"../Files\"))\n",
    "\n",
    "# import own module\n",
    "import fixed_income_derivatives as fid"
   ]
  },
  {
   "cell_type": "code",
   "execution_count": null,
   "metadata": {},
   "outputs": [],
   "source": [
    "# timings 0-10 years\n",
    "T = np.array([0, 0.25, 0.5, 0.75, 1, 1.25, 1.5, 1.75, 2, 2.25, 2.5, 2.75, 3, 3.25, 3.5, 3.75, 4, 4.25, 4.5, 4.75,\n",
    "5, 5.25, 5.5, 5.75, 6, 6.25, 6.5, 6.75, 7, 7.25, 7.5, 7.75, 8, 8.25, 8.5, 8.75, 9, 9.25, 9.5, 9.75, 10])\n",
    "\n",
    "# rates\n",
    "R = np.array([0.036, 0.03711, 0.03797, 0.03875, 0.03946, 0.0401, 0.04069, 0.04122, 0.04171, 0.04216, 0.04257, 0.04294, 0.04329,\n",
    "0.0436, 0.0439, 0.04417, 0.04441, 0.04464, 0.04486, 0.04506, 0.04524, 0.04541, 0.04557, 0.04572, 0.04586, 0.04599, 0.04611,\n",
    "0.04622, 0.04633, 0.04643, 0.04653, 0.04662, 0.0467, 0.04678, 0.04686, 0.04693, 0.047, 0.04706, 0.04712, 0.04718, 0.04724])"
   ]
  },
  {
   "cell_type": "markdown",
   "metadata": {},
   "source": [
    "## 4. Caplets"
   ]
  },
  {
   "cell_type": "markdown",
   "metadata": {},
   "source": [
    "$$\n",
    "\\begin{align*}\n",
    "x \\text(quaterly) &= price\\_cap(t=0) = \\sum_{i=1}^N p(0,T_i) (T_i - T_{i-1}) y  \\\\\n",
    "&= y \\sum_{i=1}^N (T_i - T_{i-1}) \\\\\n",
    "&= \\alpha y \\sum_{i=1}^N p(0,T_i), \\quad \\alpha = (T_i - T_{i-1}) = 0.25 \\text{ or atleast always constant} \\\\\n",
    "x &=  \\alpha y S\n",
    "\\end{align*}\n",
    "$$\n",
    "\n",
    "Where $y$ is the premium paid annually in basispoints, $S$ is the som of payments, $\\alpha$ is the time interval (then $\\alpha y$ gives the premium paid each period)"
   ]
  },
  {
   "cell_type": "markdown",
   "metadata": {},
   "source": [
    "## 5. Simulation of the Vasicek model"
   ]
  },
  {
   "cell_type": "code",
   "execution_count": null,
   "metadata": {},
   "outputs": [],
   "source": [
    "M_simul, T_simul = 1000, 10\n",
    "size_ci = 0.95"
   ]
  },
  {
   "cell_type": "markdown",
   "metadata": {},
   "source": [
    "## 6. Pricing swaptions\n"
   ]
  },
  {
   "cell_type": "code",
   "execution_count": null,
   "metadata": {},
   "outputs": [],
   "source": []
  }
 ],
 "metadata": {
  "kernelspec": {
   "display_name": "base",
   "language": "python",
   "name": "python3"
  },
  "language_info": {
   "codemirror_mode": {
    "name": "ipython",
    "version": 3
   },
   "file_extension": ".py",
   "mimetype": "text/x-python",
   "name": "python",
   "nbconvert_exporter": "python",
   "pygments_lexer": "ipython3",
   "version": "3.11.8"
  }
 },
 "nbformat": 4,
 "nbformat_minor": 2
}
