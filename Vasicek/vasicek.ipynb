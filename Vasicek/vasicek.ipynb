{
 "cells": [
  {
   "cell_type": "code",
   "execution_count": 1,
   "metadata": {},
   "outputs": [],
   "source": [
    "import numpy as np\n",
    "import matplotlib.pyplot as plt\n",
    "from scipy.optimize import minimize\n",
    "from scipy.stats import norm\n",
    "\n",
    "\n",
    "# add the directory where fixed_income_derivatives.py is located to the system path\n",
    "import sys\n",
    "import os\n",
    "sys.path.append(os.path.abspath(\"../Files\"))\n",
    "\n",
    "# import own module\n",
    "import fixed_income_derivatives_E2024 as fid"
   ]
  },
  {
   "cell_type": "markdown",
   "metadata": {},
   "source": [
    "## Problem 3: Fitting a Vasicek model to data"
   ]
  },
  {
   "cell_type": "markdown",
   "metadata": {},
   "source": [
    "### Setup"
   ]
  },
  {
   "cell_type": "code",
   "execution_count": 2,
   "metadata": {},
   "outputs": [],
   "source": [
    "r0, a, b, sigma = 0.03, 0.5, 0.04, 0.04\n",
    "T_max = 10\n",
    "alpha = 0.25\n",
    "M = int(T_max / alpha)+1\n",
    "T = np.array([i*alpha for i in range(0,M)])\n",
    "p = fid.zcb_price_vasicek(r0,a,b,sigma,T)\n",
    "R = fid.spot_rate_vasicek(r0,a,b,sigma,T) # lol dunno why he defines R and p here...\n",
    "\n",
    "# \"DATA\"\n",
    "# timings 0-10 years\n",
    "T = np.array([0, 0.25, 0.5, 0.75, 1, 1.25, 1.5, 1.75, 2, 2.25, 2.5, 2.75, 3, 3.25, 3.5, 3.75, 4, 4.25, 4.5, 4.75,\n",
    "5, 5.25, 5.5, 5.75, 6, 6.25, 6.5, 6.75, 7, 7.25, 7.5, 7.75, 8, 8.25, 8.5, 8.75, 9, 9.25, 9.5, 9.75, 10])\n",
    "\n",
    "# rates\n",
    "R = np.array([0.036, 0.03711, 0.03797, 0.03875, 0.03946, 0.0401, 0.04069, 0.04122, 0.04171, 0.04216, 0.04257, 0.04294, 0.04329,\n",
    "0.0436, 0.0439, 0.04417, 0.04441, 0.04464, 0.04486, 0.04506, 0.04524, 0.04541, 0.04557, 0.04572, 0.04586, 0.04599, 0.04611,\n",
    "0.04622, 0.04633, 0.04643, 0.04653, 0.04662, 0.0467, 0.04678, 0.04686, 0.04693, 0.047, 0.04706, 0.04712, 0.04718, 0.04724])"
   ]
  },
  {
   "cell_type": "markdown",
   "metadata": {},
   "source": [
    "### (a)"
   ]
  },
  {
   "cell_type": "code",
   "execution_count": 10,
   "metadata": {},
   "outputs": [
    {
     "name": "stdout",
     "output_type": "stream",
     "text": [
      "Parameters from the fit:\n",
      "[0.036      0.60042112 0.0300103  0.01968804] \n",
      "SSE of fit:\n",
      "2.5751868860945455e-10\n"
     ]
    },
    {
     "name": "stderr",
     "output_type": "stream",
     "text": [
      "/var/folders/yw/jsw5n53s1cb1s2q6tt0msrm00000gn/T/ipykernel_35895/1739808910.py:2: RuntimeWarning: Maximum number of function evaluations has been exceeded.\n",
      "  result = minimize(fid.fit_vasicek_obj,param_0,method='nelder-mead', args = (R,T), options={'xatol':1e-20,'disp':True})\n"
     ]
    },
    {
     "ename": "IndexError",
     "evalue": "index 0 is out of bounds for axis 0 with size 0",
     "output_type": "error",
     "traceback": [
      "\u001b[0;31m---------------------------------------------------------------------------\u001b[0m",
      "\u001b[0;31mIndexError\u001b[0m                                Traceback (most recent call last)",
      "Cell \u001b[0;32mIn[10], line 10\u001b[0m\n\u001b[1;32m      8\u001b[0m R_swap \u001b[38;5;241m=\u001b[39m np\u001b[38;5;241m.\u001b[39mzeros([\u001b[38;5;241m10\u001b[39m])\n\u001b[1;32m      9\u001b[0m \u001b[38;5;28;01mfor\u001b[39;00m i \u001b[38;5;129;01min\u001b[39;00m \u001b[38;5;28mrange\u001b[39m(\u001b[38;5;241m0\u001b[39m,\u001b[38;5;241m10\u001b[39m):\n\u001b[0;32m---> 10\u001b[0m     R_swap[i] \u001b[38;5;241m=\u001b[39m fid\u001b[38;5;241m.\u001b[39mswap_rate_from_zcb_prices(\u001b[38;5;241m0\u001b[39m,\u001b[38;5;241m0\u001b[39m,T_swap[i],\u001b[38;5;124m\"\u001b[39m\u001b[38;5;124mquaterly\u001b[39m\u001b[38;5;124m\"\u001b[39m,T,p)[\u001b[38;5;241m0\u001b[39m]\n\u001b[1;32m     11\u001b[0m f_3m \u001b[38;5;241m=\u001b[39m fid\u001b[38;5;241m.\u001b[39mforward_rates_from_zcb_prices(T,p,horizon\u001b[38;5;241m=\u001b[39m\u001b[38;5;241m1\u001b[39m)\n",
      "File \u001b[0;32m~/Library/CloudStorage/GoogleDrive-johan.oelgaard@gmail.com/My Drive/04 Økonomi/09 Fixed Income/02 Git/FixedIncome/Files/fixed_income_derivatives_E2024.py:83\u001b[0m, in \u001b[0;36mswap_rate_from_zcb_prices\u001b[0;34m(t, T_n, T_N, fixed_freq, T, p, float_freq, L)\u001b[0m\n\u001b[1;32m     82\u001b[0m \u001b[38;5;28;01mdef\u001b[39;00m \u001b[38;5;21mswap_rate_from_zcb_prices\u001b[39m(t,T_n,T_N,fixed_freq,T,p,float_freq \u001b[38;5;241m=\u001b[39m \u001b[38;5;241m0\u001b[39m,L \u001b[38;5;241m=\u001b[39m \u001b[38;5;241m0\u001b[39m):\n\u001b[0;32m---> 83\u001b[0m     S \u001b[38;5;241m=\u001b[39m accrual_factor_from_zcb_prices(t,T_n,T_N,fixed_freq,T,p)\n\u001b[1;32m     84\u001b[0m     \u001b[38;5;28;01mif\u001b[39;00m t \u001b[38;5;241m<\u001b[39m\u001b[38;5;241m=\u001b[39m T_n:\n\u001b[1;32m     85\u001b[0m         [p_n,p_N] \u001b[38;5;241m=\u001b[39m for_values_in_list_find_value_return_value([T_n,T_N],T,p)\n",
      "File \u001b[0;32m~/Library/CloudStorage/GoogleDrive-johan.oelgaard@gmail.com/My Drive/04 Økonomi/09 Fixed Income/02 Git/FixedIncome/Files/fixed_income_derivatives_E2024.py:77\u001b[0m, in \u001b[0;36maccrual_factor_from_zcb_prices\u001b[0;34m(t, T_n, T_N, fixed_freq, T, p)\u001b[0m\n\u001b[1;32m     75\u001b[0m p_fix \u001b[38;5;241m=\u001b[39m np\u001b[38;5;241m.\u001b[39marray(for_values_in_list_find_value_return_value(T_fix,T,p))\n\u001b[1;32m     76\u001b[0m T_fix \u001b[38;5;241m=\u001b[39m np\u001b[38;5;241m.\u001b[39marray(T_fix)\n\u001b[0;32m---> 77\u001b[0m S \u001b[38;5;241m=\u001b[39m (T_fix[\u001b[38;5;241m0\u001b[39m] \u001b[38;5;241m-\u001b[39m t)\u001b[38;5;241m*\u001b[39mp_fix[\u001b[38;5;241m0\u001b[39m]\n\u001b[1;32m     78\u001b[0m \u001b[38;5;28;01mfor\u001b[39;00m i \u001b[38;5;129;01min\u001b[39;00m \u001b[38;5;28mrange\u001b[39m(\u001b[38;5;241m1\u001b[39m,\u001b[38;5;28mlen\u001b[39m(T_fix)):\n\u001b[1;32m     79\u001b[0m     S \u001b[38;5;241m+\u001b[39m\u001b[38;5;241m=\u001b[39m (T_fix[i] \u001b[38;5;241m-\u001b[39m T_fix[i\u001b[38;5;241m-\u001b[39m\u001b[38;5;241m1\u001b[39m])\u001b[38;5;241m*\u001b[39mp_fix[i]\n",
      "\u001b[0;31mIndexError\u001b[0m: index 0 is out of bounds for axis 0 with size 0"
     ]
    }
   ],
   "source": [
    "param_0 = 0.03, 0.5, 0.04, 0.03\n",
    "result = minimize(fid.fit_vasicek_obj,param_0,method='nelder-mead', args = (R,T), options={'xatol':1e-20,'disp':True})\n",
    "print(f'Parameters from the fit:\\n{result.x} \\nSSE of fit:\\n{result.fun}')\n",
    "r0,a,b,sigma = result.x\n",
    "p = fid.zcb_price_vasicek(r0,a,b,sigma,T)\n",
    "f = fid.forward_rate_vasicek(r0,a,b,sigma,T)\n",
    "T_swap = [1,2,3,4,5,6,7,8,9,10]\n",
    "R_swap = np.zeros([10])\n",
    "for i in range(0,10):\n",
    "    R_swap[i] = fid.swap_rate_from_zcb_prices(0,0,T_swap[i],\"quaterly\",T,p)[0]\n",
    "f_3m = fid.forward_rates_from_zcb_prices(T,p,horizon=1)"
   ]
  },
  {
   "cell_type": "code",
   "execution_count": null,
   "metadata": {},
   "outputs": [
    {
     "name": "stdout",
     "output_type": "stream",
     "text": [
      "range(0, 10)\n"
     ]
    }
   ],
   "source": []
  },
  {
   "cell_type": "code",
   "execution_count": 9,
   "metadata": {},
   "outputs": [
    {
     "data": {
      "text/plain": [
       "0.0"
      ]
     },
     "execution_count": 9,
     "metadata": {},
     "output_type": "execute_result"
    }
   ],
   "source": [
    "R_swap[0]"
   ]
  },
  {
   "cell_type": "code",
   "execution_count": 5,
   "metadata": {},
   "outputs": [
    {
     "ename": "NameError",
     "evalue": "name 'f_3m' is not defined",
     "output_type": "error",
     "traceback": [
      "\u001b[0;31m---------------------------------------------------------------------------\u001b[0m",
      "\u001b[0;31mNameError\u001b[0m                                 Traceback (most recent call last)",
      "Cell \u001b[0;32mIn[5], line 4\u001b[0m\n\u001b[1;32m      1\u001b[0m \u001b[38;5;66;03m# Plot spot and forward rates\u001b[39;00m\n\u001b[1;32m      2\u001b[0m fig, ax1 \u001b[38;5;241m=\u001b[39m plt\u001b[38;5;241m.\u001b[39msubplots()\n\u001b[0;32m----> 4\u001b[0m scatter1 \u001b[38;5;241m=\u001b[39m ax1\u001b[38;5;241m.\u001b[39mscatter(T, f_3m, label\u001b[38;5;241m=\u001b[39m\u001b[38;5;124m'\u001b[39m\u001b[38;5;124mForward rates\u001b[39m\u001b[38;5;124m'\u001b[39m, alpha\u001b[38;5;241m=\u001b[39m\u001b[38;5;241m0.5\u001b[39m, marker\u001b[38;5;241m=\u001b[39m\u001b[38;5;124m'\u001b[39m\u001b[38;5;124m.\u001b[39m\u001b[38;5;124m'\u001b[39m, color\u001b[38;5;241m=\u001b[39m\u001b[38;5;124m'\u001b[39m\u001b[38;5;124mred\u001b[39m\u001b[38;5;124m'\u001b[39m)\n\u001b[1;32m      5\u001b[0m scatter2 \u001b[38;5;241m=\u001b[39m ax1\u001b[38;5;241m.\u001b[39mscatter(T, R, label\u001b[38;5;241m=\u001b[39m\u001b[38;5;124m'\u001b[39m\u001b[38;5;124mSpot rates\u001b[39m\u001b[38;5;124m'\u001b[39m, alpha\u001b[38;5;241m=\u001b[39m\u001b[38;5;241m0.5\u001b[39m, marker\u001b[38;5;241m=\u001b[39m\u001b[38;5;124m'\u001b[39m\u001b[38;5;124m.\u001b[39m\u001b[38;5;124m'\u001b[39m, color\u001b[38;5;241m=\u001b[39m\u001b[38;5;124m'\u001b[39m\u001b[38;5;124mblue\u001b[39m\u001b[38;5;124m'\u001b[39m)\n\u001b[1;32m      6\u001b[0m ax1\u001b[38;5;241m.\u001b[39mset_ylim([\u001b[38;5;241m0\u001b[39m, \u001b[38;5;241m0.055\u001b[39m])\n",
      "\u001b[0;31mNameError\u001b[0m: name 'f_3m' is not defined"
     ]
    },
    {
     "data": {
      "image/png": "[encoded data removed]",
      "text/plain": [
       "<Figure size 640x480 with 1 Axes>"
      ]
     },
     "metadata": {},
     "output_type": "display_data"
    }
   ],
   "source": [
    "# Plot spot and forward rates\n",
    "fig, ax1 = plt.subplots()\n",
    "\n",
    "scatter1 = ax1.scatter(T, f_3m, label='Forward rates', alpha=0.5, marker='.', color='red')\n",
    "scatter2 = ax1.scatter(T, R, label='Spot rates', alpha=0.5, marker='.', color='blue')\n",
    "ax1.set_ylim([0, 0.055])\n",
    "ax1.set_xlabel('Time to Maturity')\n",
    "ax1.set_ylabel('Rates')\n",
    "\n",
    "# Add bond prices to the plot on the right axis\n",
    "ax2 = ax1.twinx()\n",
    "scatter3 = ax2.scatter(T, p, label='ZCB prices', alpha=0.5, marker='.', color='black')\n",
    "ax2.set_ylim([0, 1.1])\n",
    "ax2.set_ylabel('Bond Prices')\n",
    "\n",
    "# Combine legends\n",
    "scatters = [scatter1, scatter2, scatter3]\n",
    "labels = [scatter.get_label() for scatter in scatters]\n",
    "ax1.legend(scatters, labels, loc='lower right')\n",
    "\n",
    "plt.title('Spot, Forward Rates and Bond')\n",
    "plt.show()\n",
    "plt.close()"
   ]
  },
  {
   "cell_type": "markdown",
   "metadata": {},
   "source": [
    "## 4. Caplets"
   ]
  },
  {
   "cell_type": "markdown",
   "metadata": {},
   "source": [
    "$$\n",
    "\\begin{align*}\n",
    "x \\text(quaterly) &= price\\_cap(t=0) = \\sum_{i=1}^N p(0,T_i) (T_i - T_{i-1}) y  \\\\\n",
    "&= y \\sum_{i=1}^N (T_i - T_{i-1}) \\\\\n",
    "&= \\alpha y \\sum_{i=1}^N p(0,T_i), \\quad \\alpha = (T_i - T_{i-1}) = 0.25 \\text{ or atleast always constant} \\\\\n",
    "x &=  \\alpha y S\n",
    "\\end{align*}\n",
    "$$\n",
    "\n",
    "Where $y$ is the premium paid annually in basispoints, $S$ is the som of payments, $\\alpha$ is the time interval (then $\\alpha y$ gives the premium paid each period)"
   ]
  },
  {
   "cell_type": "markdown",
   "metadata": {},
   "source": [
    "## 5. Simulation of the Vasicek model"
   ]
  },
  {
   "cell_type": "code",
   "execution_count": null,
   "metadata": {},
   "outputs": [],
   "source": [
    "M_simul, T_simul = 1000, 10\n",
    "size_ci = 0.95"
   ]
  },
  {
   "cell_type": "markdown",
   "metadata": {},
   "source": [
    "## 6. Pricing swaptions\n"
   ]
  },
  {
   "cell_type": "code",
   "execution_count": null,
   "metadata": {},
   "outputs": [],
   "source": [
    "np.random.seed(2024)\n",
    "T_n, T_N = 2, 10\n",
    "M_simul_swaption, N_simul_swaption, T_simul_swaption = 1000, 1250, T_n\n",
    "chi, price_swaption_simul, price_swaption_plot = np.zeros([N_simul_swaption]), np.zeros([N_simul_swaption]), np.zeros([N_simul_swaption])\n",
    "T_swaption = np.array([i*0.25 for i in range(0, 33)])\n",
    "for i in range(0, N_simul_swaption):\n",
    "    r_simul_swaption = fid.simul_vasicek(r0,a,b,sigma,M,T_n,method='exact')\n",
    "    p_swaption = fid.zcb_price_vasicek(r_simul_swaption[-1],a,b,sigma,T_swaption)\n",
    "    R_swaption, S_swaption = fid.swap_rate_from_zcb_prices(0,0,10-2,'annual',T_swaption,p_swaption,float_freq='quaterly')\n",
    "    chi[i] = np.max(R_swaption - strike,0) * S_swaption\n",
    "    price_swaption_simul[i] = np.exp(-(T_simul_swaption/M_simul_swaption)*np.sum(r_simul_swaption))*chi[i]\n",
    "    price_swaption_plot[i] = sum(price_swaption_simul[0:i+1])/(i+1) * 10000\n",
    "print(f'Swaption price: {price_swaption_plot[-1]}')"
   ]
  }
 ],
 "metadata": {
  "kernelspec": {
   "display_name": "base",
   "language": "python",
   "name": "python3"
  },
  "language_info": {
   "codemirror_mode": {
    "name": "ipython",
    "version": 3
   },
   "file_extension": ".py",
   "mimetype": "text/x-python",
   "name": "python",
   "nbconvert_exporter": "python",
   "pygments_lexer": "ipython3",
   "version": "3.11.8"
  }
 },
 "nbformat": 4,
 "nbformat_minor": 2
}
