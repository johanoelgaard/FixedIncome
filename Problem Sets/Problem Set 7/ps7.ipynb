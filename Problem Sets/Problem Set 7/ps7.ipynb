{
 "cells": [
  {
   "cell_type": "markdown",
   "metadata": {},
   "source": [
    "# Problem Set 7"
   ]
  },
  {
   "cell_type": "code",
   "execution_count": 1,
   "metadata": {},
   "outputs": [],
   "source": [
    "import sys\n",
    "import os\n",
    "import numpy as np\n",
    "import matplotlib.pyplot as plt\n",
    "import copy\n",
    "\n",
    "from scipy.optimize import minimize\n",
    "\n",
    "\n",
    "# add the directory where fixed_income_derivatives.py is located to the system path\n",
    "sys.path.append(os.path.abspath(\"../../Files\"))\n",
    "\n",
    "# import own module\n",
    "import fixed_income_derivatives_E2024 as fid\n",
    "\n",
    "%load_ext autoreload\n",
    "%autoreload 2"
   ]
  },
  {
   "cell_type": "markdown",
   "metadata": {},
   "source": [
    "## Problem 1"
   ]
  },
  {
   "cell_type": "markdown",
   "metadata": {},
   "source": [
    "\\begin{align*}\n",
    "f(t,T) &= f_\\infty + \\sum_{k=o}a_k (T-t)^k e^{-b_k (T-t)}, \\qquad b_j >0 \\\\\n",
    "&= f_\\infty + a_0 e^{-b_0 (T-t)} + a_1 (T-t) e^{-b_1 (T-t)} + a_2 (T-t)^2 e^{-b_2 (T-t)} + a_3 (T-t)^3 e^{-b_3 (T-t)} + \\dots \\\\\n",
    "\\end{align*}\n",
    "\n",
    "Tend to f-infinity as $T \\to \\infty$ as the sum reduces in time."
   ]
  },
  {
   "cell_type": "markdown",
   "metadata": {},
   "source": [
    "Downside w. Nelson-Siegel. It is more differentiable to upper case T and flexible but is more restrictive in the functional form."
   ]
  },
  {
   "cell_type": "markdown",
   "metadata": {},
   "source": [
    "## Problem 2"
   ]
  },
  {
   "cell_type": "code",
   "execution_count": 2,
   "metadata": {},
   "outputs": [],
   "source": [
    "f_star = np.array([0.02, 0.02200177, 0.02399526, 0.02596512, 0.02789877,\n",
    "0.02978607, 0.03161897, 0.03339121, 0.03509809, 0.03673622, 0.03830334,\n",
    "0.03979815, 0.04122013, 0.04256945, 0.04384681, 0.04505338, 0.04619068,\n",
    "0.04726055, 0.04826501, 0.04920630, 0.05008674, 0.05090877, 0.05167487,\n",
    "0.05238751, 0.05304920, 0.05366240, 0.05422954, 0.05475300, 0.05523509,\n",
    "0.05567805, 0.05608405, 0.05645518, 0.05679343, 0.05710072, 0.05737887,\n",
    "0.05762962, 0.05785464, 0.05805548, 0.05823363, 0.05839051, 0.05852743,\n",
    "0.05864565, 0.05874636, 0.05883067, 0.05889961, 0.05895418, 0.05899529,\n",
    "0.05902381, 0.05904056, 0.05904630, 0.05904173, 0.05902752, 0.05900431,\n",
    "0.05897268, 0.05893317, 0.05888630, 0.05883255, 0.05877236, 0.05870616,\n",
    "0.05863434, 0.05855727, 0.05847529, 0.05838872, 0.05829788, 0.05820303,\n",
    "0.05810446, 0.05800240, 0.05789709, 0.05778876, 0.05767760, 0.05756382,\n",
    "0.05744759, 0.05732909, 0.05720849, 0.05708593, 0.05696156, 0.05683551,\n",
    "0.05670793, 0.05657892, 0.05644861, 0.05631711, 0.05618451, 0.05605093,\n",
    "0.05591645, 0.05578117, 0.05564517, 0.05550853, 0.05537132, 0.05523364,\n",
    "0.05509554, 0.05495709, 0.05481836, 0.05467941, 0.05454029, 0.05440108,\n",
    "0.05426181, 0.05412255, 0.05398334, 0.05384423, 0.05370527, 0.05356650])"
   ]
  },
  {
   "cell_type": "markdown",
   "metadata": {},
   "source": [
    "Certainly $K=3$ and $K=2$ both produce fine results when fitting while $K=1$ is not fitting well enough"
   ]
  }
 ],
 "metadata": {
  "kernelspec": {
   "display_name": "base",
   "language": "python",
   "name": "python3"
  },
  "language_info": {
   "codemirror_mode": {
    "name": "ipython",
    "version": 3
   },
   "file_extension": ".py",
   "mimetype": "text/x-python",
   "name": "python",
   "nbconvert_exporter": "python",
   "pygments_lexer": "ipython3",
   "version": "3.11.8"
  }
 },
 "nbformat": 4,
 "nbformat_minor": 2
}
