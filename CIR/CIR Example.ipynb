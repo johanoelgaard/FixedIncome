{
 "cells": [
  {
   "cell_type": "code",
   "execution_count": 13,
   "metadata": {},
   "outputs": [
    {
     "name": "stdout",
     "output_type": "stream",
     "text": [
      "The autoreload extension is already loaded. To reload it, use:\n",
      "  %reload_ext autoreload\n"
     ]
    }
   ],
   "source": [
    "import sys\n",
    "import os\n",
    "import numpy as np\n",
    "import matplotlib.pyplot as plt\n",
    "import scipy.optimize as optimize\n",
    "import scipy.stats as stats\n",
    "\n",
    "# add the directory where fixed_income_derivatives.py is located to the system path\n",
    "sys.path.append(os.path.abspath(\"../Files\"))\n",
    "\n",
    "# import own module\n",
    "import fixed_income_derivatives_E2024 as fid\n",
    "\n",
    "%load_ext autoreload\n",
    "%autoreload 2"
   ]
  },
  {
   "cell_type": "code",
   "execution_count": 2,
   "metadata": {},
   "outputs": [],
   "source": [
    "r0, a, b, sigma = 0.032, 1.2, 0.048, 0.1\n",
    "T_max = 10\n",
    "alpha = 0.5\n",
    "M = int(T_max/alpha) * 1\n",
    "T = np.array([i*alpha for i in range(0,M)])\n",
    "\n",
    "p = fid.zcb_price_cir(r0, a, b, sigma, T)\n",
    "R = fid.spot_rate_cir(r0, a, b, sigma, T)\n",
    "f = fid.forward_rate_cir(r0, a, b, sigma, T)"
   ]
  },
  {
   "cell_type": "code",
   "execution_count": 14,
   "metadata": {},
   "outputs": [
    {
     "ename": "TypeError",
     "evalue": "minimize() missing 1 required positional argument: 'x0'",
     "output_type": "error",
     "traceback": [
      "\u001b[0;31m---------------------------------------------------------------------------\u001b[0m",
      "\u001b[0;31mTypeError\u001b[0m                                 Traceback (most recent call last)",
      "Cell \u001b[0;32mIn[14], line 2\u001b[0m\n\u001b[1;32m      1\u001b[0m param_0 \u001b[38;5;241m=\u001b[39m \u001b[38;5;241m0.03\u001b[39m, \u001b[38;5;241m0.5\u001b[39m, \u001b[38;5;241m0.04\u001b[39m, \u001b[38;5;241m0.08\u001b[39m\n\u001b[0;32m----> 2\u001b[0m result \u001b[38;5;241m=\u001b[39m optimize\u001b[38;5;241m.\u001b[39mminimize(fid\u001b[38;5;241m.\u001b[39mfit_cir_obj(param_0,R,T), method\u001b[38;5;241m=\u001b[39m\u001b[38;5;124m'\u001b[39m\u001b[38;5;124mNelder-Mead\u001b[39m\u001b[38;5;124m'\u001b[39m, args\u001b[38;5;241m=\u001b[39m(R, T), options\u001b[38;5;241m=\u001b[39m{\u001b[38;5;124m'\u001b[39m\u001b[38;5;124mxatol\u001b[39m\u001b[38;5;124m'\u001b[39m:\u001b[38;5;241m1e-20\u001b[39m, \u001b[38;5;124m'\u001b[39m\u001b[38;5;124mdisp\u001b[39m\u001b[38;5;124m'\u001b[39m:\u001b[38;5;28;01mTrue\u001b[39;00m})\n",
      "\u001b[0;31mTypeError\u001b[0m: minimize() missing 1 required positional argument: 'x0'"
     ]
    }
   ],
   "source": [
    "param_0 = 0.03, 0.5, 0.04, 0.08\n",
    "result = optimize.minimize(fid.fit_cir_obj(param_0,R,T), method='Nelder-Mead', args=(R, T), options={'xatol':1e-20, 'disp':True})"
   ]
  }
 ],
 "metadata": {
  "kernelspec": {
   "display_name": "base",
   "language": "python",
   "name": "python3"
  },
  "language_info": {
   "codemirror_mode": {
    "name": "ipython",
    "version": 3
   },
   "file_extension": ".py",
   "mimetype": "text/x-python",
   "name": "python",
   "nbconvert_exporter": "python",
   "pygments_lexer": "ipython3",
   "version": "3.11.8"
  }
 },
 "nbformat": 4,
 "nbformat_minor": 2
}
