{
 "cells": [
  {
   "cell_type": "markdown",
   "metadata": {},
   "source": [
    "# Problem Set 2"
   ]
  },
  {
   "cell_type": "code",
   "execution_count": 1,
   "metadata": {},
   "outputs": [],
   "source": [
    "import sys\n",
    "import os\n",
    "import numpy as np\n",
    "import matplotlib.pyplot as plt\n",
    "import copy\n",
    "\n",
    "# add the directory where fixed_income_derivatives.py is located to the system path\n",
    "sys.path.append(os.path.abspath(\"../Files\"))\n",
    "\n",
    "# import own module\n",
    "import fixed_income_derivatives_E2024 as fid\n",
    "\n",
    "%load_ext autoreload\n",
    "%autoreload 2"
   ]
  },
  {
   "cell_type": "markdown",
   "metadata": {},
   "source": [
    "## Problem 1"
   ]
  },
  {
   "cell_type": "markdown",
   "metadata": {},
   "source": [
    "#### (a)  Set up equations for the value of both the fixed- and floating legs in terms of the LIBOR fixings and zero coupon bond prices for the three interest rate swaps"
   ]
  },
  {
   "cell_type": "code",
   "execution_count": 2,
   "metadata": {},
   "outputs": [],
   "source": [
    "# setting up the data\n",
    "\n",
    "# dimensions\n",
    "N, M = 8, 9\n",
    "K = 100\n",
    "\n",
    "# timing array in years from january 15th, and then every quarter (starts 1/24 into the year hence odd timing)\n",
    "T = np.array([0, 5/24, 11/24, 17/24, 23/24, 29/24, 35/24, 41/24, 47/24])\n",
    "\n",
    "# rates\n",
    "L_3M, L6M = 0.052, 0.049\n",
    "R_1, R_2, R_3 = 0.051, 0.044, 0.049\n",
    "\n",
    "# price matrix\n",
    "pi = np.array([\n",
    "    0.79492002,   # Price of Swap 1\n",
    "    -1.02540877,  # Price of Swap 2\n",
    "    2.05066409,   # Price of Swap 3\n",
    "    103.02163487, # Price of Bond 4\n",
    "    101.80152680, # Price of Bond 5\n",
    "    104.48120266, # Price of Bond 6\n",
    "    101.10990798, # Price of Bond 7\n",
    "    103.67216735  # Price of Bond 8\n",
    "])"
   ]
  },
  {
   "cell_type": "markdown",
   "metadata": {},
   "source": [
    "#### (b) Construct a cashflow matrix C with each row corresponding to a traded assets. What is the rank of this matrix? For which maturities can you compute zcb prices?"
   ]
  },
  {
   "cell_type": "code",
   "execution_count": 3,
   "metadata": {},
   "outputs": [
    {
     "name": "stdout",
     "output_type": "stream",
     "text": [
      "Rank of the cash flow matrix:  8\n",
      "Cash flow matrix:\n",
      "[[-101.3      2.55     0.     102.55     0.       0.       0.       0.   ]\n",
      " [   0.     102.45     0.      -4.4      0.       0.       0.    -104.4  ]\n",
      " [-101.3      0.       0.       4.9      0.       0.       0.     104.9  ]\n",
      " [   1.75     1.75     1.75   101.75     0.       0.       0.       0.   ]\n",
      " [   0.       2.5      0.       2.5      0.     102.5      0.       0.   ]\n",
      " [   0.       0.       0.       6.       0.       0.       0.     106.   ]\n",
      " [   1.125    1.125    1.125    1.125    1.125  101.125    0.       0.   ]\n",
      " [   1.375    1.375    1.375    1.375    1.375    1.375    1.375  101.375]]\n",
      "Maturities of ZCB prices:\n",
      "[0.         0.20833333 0.45833333 0.70833333 0.95833333 1.20833333\n",
      " 1.45833333 1.70833333 1.95833333]\n"
     ]
    }
   ],
   "source": [
    "# cash flow matrix\n",
    "C = np.zeros((N, M))\n",
    "\n",
    "C[0,:] = [0, -K*(0.25*L_3M+1),0.5*K*R_1,0,0.5*K*R_1+K,0,0,0,0] # swap 1\n",
    "C[1,:] = [0,0,K*(0.5*L6M+1),0,-K*R_2,0,0,0,-K*R_2-K] # swap 2\n",
    "C[2,:] = [0, -K*(0.25*L_3M+1),0,0,K*R_3,0,0,0,K*R_3+K] # swap 3\n",
    "C[3,:] = [0,0.25*K*0.07,0.25*K*0.07,0.25*K*0.07,0.25*K*0.07+K,0,0,0,0] # bond 4\n",
    "C[4,:] = [0,0,0.5*K*0.05,0,0.5*K*0.05,0,0.5*K*0.05+K,0,0] # bond 5\n",
    "C[5,:] = [0,0,0,0,K*0.06,0,0,0,K*0.06+K] # bond 6\n",
    "C[6,:] = [0,0.25*K*0.045,0.25*K*0.045,0.25*K*0.045,0.25*K*0.045,0.25*K*0.045,0.25*K*0.045+K,0,0] # bond 7\n",
    "C[7,:] = [0,0.25*K*0.055,0.25*K*0.055,0.25*K*0.055,0.25*K*0.055,0.25*K*0.055,0.25*K*0.055,0.25*K*0.055,0.25*K*0.055+K] # bond 8\n",
    "\n",
    "\n",
    "# print results\n",
    "print(\"Rank of the cash flow matrix: \", np.linalg.matrix_rank(C))\n",
    "\n",
    "print(f'Cash flow matrix:\\n{C[:,1:]}')\n",
    "\n",
    "print(f'Maturities of ZCB prices:\\n{T}')"
   ]
  },
  {
   "cell_type": "markdown",
   "metadata": {},
   "source": [
    "#### (c) Compute ZCB prices for as many maturities as you can. Is the market complete? Is it arbitrage free?"
   ]
  },
  {
   "cell_type": "code",
   "execution_count": 4,
   "metadata": {},
   "outputs": [
    {
     "name": "stdout",
     "output_type": "stream",
     "text": [
      "Prices of the zero-coupon bonds:\n",
      "[1.         0.99060312 0.9802517  0.97073639 0.96190516 0.95363276\n",
      " 0.94581595 0.93836974 0.93122426]\n"
     ]
    }
   ],
   "source": [
    "p = np.ones(M)\n",
    "p[1:] = np.linalg.solve(C[:,1:], pi)\n",
    "\n",
    "print(f'Prices of the zero-coupon bonds:\\n{p}')"
   ]
  },
  {
   "cell_type": "markdown",
   "metadata": {},
   "source": [
    "All prices are strictly positive, hence market is arbitrage free. Market is complete if the rank of the cashflow matrix is equal to the number of traded assets."
   ]
  },
  {
   "cell_type": "markdown",
   "metadata": {},
   "source": [
    "#### (d) Plot the term structures of ZCB prices, spot rates and 3M forward rates."
   ]
  },
  {
   "cell_type": "code",
   "execution_count": 5,
   "metadata": {},
   "outputs": [
    {
     "name": "stdout",
     "output_type": "stream",
     "text": [
      "Spot rates:\n",
      "[       nan 0.04531828 0.04351833 0.04192989 0.04052809 0.03929101\n",
      " 0.03819928 0.03723584 0.03638561]\n",
      "3M forward rates:\n",
      "[0.         0.04531828 0.04201838 0.03901773 0.03655633 0.03454886\n",
      " 0.03292262 0.03161576 0.03057569]\n"
     ]
    }
   ],
   "source": [
    "# spot rates\n",
    "R = fid.spot_rates_from_zcb_prices(T, p)\n",
    "\n",
    "print(f'Spot rates:\\n{R}')\n",
    "\n",
    "# forward rates\n",
    "f_3M = np.zeros(M)\n",
    "f_3M = fid.forward_rates_from_zcb_prices(T,p)\n",
    "\n",
    "# alternatively using the formula\n",
    "# f_3M[0] = np.nan\n",
    "# for i in range(1,M):\n",
    "#     f_3M[i] = -(np.log(p[i])-np.log(p[i-1]))/(T[i]-T[i-1])\n",
    "\n",
    "print(f'3M forward rates:\\n{f_3M}')"
   ]
  },
  {
   "cell_type": "code",
   "execution_count": 6,
   "metadata": {},
   "outputs": [
    {
     "data": {
      "image/png": "[encoded data removed]",
      "text/plain": [
       "<Figure size 640x480 with 2 Axes>"
      ]
     },
     "metadata": {},
     "output_type": "display_data"
    }
   ],
   "source": [
    "fig, ax1 = plt.subplots()\n",
    "\n",
    "scatter1 = ax1.scatter(T[1:], R[1:],marker = '.', label='Spot rates', alpha=0.5, color='red')\n",
    "scatter2 = ax1.scatter(T[1:], f_3M[1:], marker = '.', label='3M forward rates', alpha=0.5, color='blue')\n",
    "ax1.set_ylim([0, 0.055])\n",
    "ax1.set_xlabel('Time to Maturity')\n",
    "ax1.set_ylabel('Rates')\n",
    "\n",
    "# add dotted lines across the plot at 0.01, 0.02, 0.03, 0.04 and 0.05\n",
    "for i in range(1, 6):\n",
    "    ax1.axhline(y=i*0.01, color='gray', linestyle='--')\n",
    "\n",
    "# Add bond prices to the plot on the right axis\n",
    "ax2 = ax1.twinx()\n",
    "scatter3 = ax2.scatter(T, p, label='ZCB prices', marker = '.', color='black', alpha=0.5)\n",
    "ax2.set_ylim([0, 1.1])\n",
    "ax2.set_ylabel('Bond Prices')\n",
    "\n",
    "# Combine legends\n",
    "scatters = [scatter1, scatter2, scatter3]\n",
    "labels = [scatter.get_label() for scatter in scatters]\n",
    "ax1.legend(scatters, labels, loc='lower right')\n",
    "\n",
    "plt.title('Spot, Forward Rates and Bond Prices')\n",
    "plt.show()"
   ]
  },
  {
   "cell_type": "markdown",
   "metadata": {},
   "source": [
    "#### (e) What would the prices of the 3 swaps and 5 bonds be if all spot rates were to suddenly drop by 10 basispoints (0.1 percentage points)?"
   ]
  },
  {
   "cell_type": "code",
   "execution_count": 7,
   "metadata": {},
   "outputs": [
    {
     "name": "stdout",
     "output_type": "stream",
     "text": [
      "New spot rates: \n",
      " [       nan 0.04431828 0.04251833 0.04092989 0.03952809 0.03829101\n",
      " 0.03719928 0.03623584 0.03538561]\n",
      "New zero coupon bond prices: \n",
      " [1.         0.99080952 0.98070109 0.97142423 0.96282743 0.95478576\n",
      " 0.94719627 0.93997416 0.9330497 ]\n",
      "New prices for swaps and bonds: \n",
      " [  0.86973647  -1.1740026    2.22576323 103.11782696 101.94643885\n",
      " 104.68023231 101.25333922 103.86602576]\n"
     ]
    }
   ],
   "source": [
    "# new spot rates\n",
    "R_10_bps = R - 0.001*np.ones([])\n",
    "\n",
    "print(\"New spot rates: \\n\", R_10_bps)\n",
    "\n",
    "# new zero coupon bond prices\n",
    "p_10_bps = fid.zcb_prices_from_spot_rates(T, R_10_bps)\n",
    "\n",
    "\n",
    "print(\"New zero coupon bond prices: \\n\", p_10_bps)\n",
    "\n",
    "# new prices of the bonds and swaps\n",
    "pi_10_bps = C @ p_10_bps\n",
    "print(\"New prices for swaps and bonds: \\n\", pi_10_bps)"
   ]
  },
  {
   "cell_type": "code",
   "execution_count": 8,
   "metadata": {},
   "outputs": [],
   "source": [
    "# prices of the swaps and bonds (provided) in the answers - these do not align with answers in his code. The above are correct!\n",
    "pi_given_10_bps = np.array([\n",
    "    0.79112002,  # New price of Swap 1\n",
    "    -1.01905877, # New price of Swap 2\n",
    "    2.04216409,  # New price of Swap 3\n",
    "    102.91463487, # New price of Bond 4\n",
    "    101.6940268,  # New price of Bond 5\n",
    "    104.36920266, # New price of Bond 6\n",
    "    101.00315798, # New price of Bond 7\n",
    "    103.56116735  # New price of Bond 8\n",
    "])"
   ]
  },
  {
   "cell_type": "markdown",
   "metadata": {},
   "source": [
    "#### (f) Find the par swap rate for swap i) today on January 15. 2017. That is, find the size of the fixed coupon such that it would have had a value of 0 today. Can you determine if a trader, who has held this receiver swap since issuance, has made money simply by comparing the par swap rate at issuance to the par swap rate today"
   ]
  },
  {
   "cell_type": "code",
   "execution_count": 9,
   "metadata": {},
   "outputs": [
    {
     "name": "stdout",
     "output_type": "stream",
     "text": [
      "R_swap if issued today: \n",
      " 0.04469388618153483\n"
     ]
    }
   ],
   "source": [
    "S_swap = T[2]*p[2]+0.5*p[4] # accrual factor interpretation: dollar value of one basispoint change\n",
    "R_swap = ((0.25*L_3M+1)*p[1]-p[4])/S_swap # discounted cash flow of the swap\n",
    "print('R_swap if issued today: \\n', R_swap)"
   ]
  },
  {
   "cell_type": "markdown",
   "metadata": {},
   "source": [
    "#### (g) Compute the accrual factor of swap i) and use the accrual factor along with the new par swap rate to find the PnL of this swap since the day of issuance"
   ]
  },
  {
   "cell_type": "code",
   "execution_count": 10,
   "metadata": {},
   "outputs": [
    {
     "name": "stdout",
     "output_type": "stream",
     "text": [
      "Accrual factor: 0.930234610936274 and PnL of reciever swap: 0.005866165334439804\n"
     ]
    }
   ],
   "source": [
    "PnL_swap = - S_swap*(R_swap-R_1)\n",
    "print(f'Accrual factor: {S_swap} and PnL of reciever swap: {PnL_swap}')"
   ]
  },
  {
   "cell_type": "markdown",
   "metadata": {},
   "source": [
    "#### (h) Does your answer conform with other information given in this problem?"
   ]
  },
  {
   "cell_type": "markdown",
   "metadata": {},
   "source": [
    "The PnL is positive confirms that the owner of the receiver swap did indeed make money from\n",
    "his position as the reciever swap is positioned to benefit from a decrease in interest rates."
   ]
  },
  {
   "cell_type": "markdown",
   "metadata": {},
   "source": [
    "---\n",
    "\n",
    "Now a trader calls you and offers to sell a fixed rate bullet bond with semi-annual coupons of 5.2%\n",
    "maturing on December 30. 2018 for 100.2.\n"
   ]
  },
  {
   "cell_type": "markdown",
   "metadata": {},
   "source": [
    "### (i) Trader adding a bullet bond to the market - does this give rise to arbitrage opportunities?"
   ]
  },
  {
   "cell_type": "markdown",
   "metadata": {},
   "source": [
    "Arbitrage is present if at least 1 ZCB price is negative"
   ]
  },
  {
   "cell_type": "code",
   "execution_count": 11,
   "metadata": {},
   "outputs": [
    {
     "name": "stdout",
     "output_type": "stream",
     "text": [
      "Fair market price of the bond offered by the trader: 103.0523385081963\n",
      "Price of the bond offered by the trader: 100.2\n",
      "Difference in price: 2.852338508196297\n"
     ]
    }
   ],
   "source": [
    "# traders offering\n",
    "R_trader = 0.052\n",
    "pi_trader = 100.2\n",
    "\n",
    "# adding the bond to the cash-flow matrix\n",
    "pi_ijk = np.hstack([pi,np.array([pi_trader])])\n",
    "C_trader = np.array([0,0,0.5*K*R_trader,0,0.5*K*R_trader,0,0.5*K*R_trader,0,0.5*K*R_trader+K])\n",
    "C_ijk = np.vstack([C,C_trader])\n",
    "\n",
    "pi_trader_no_arbitrage = C_trader @ p\n",
    "\n",
    "print(f'Fair market price of the bond offered by the trader: {pi_trader_no_arbitrage}')\n",
    "print(f'Price of the bond offered by the trader: {pi_trader}')\n",
    "print(f'Difference in price: {pi_trader_no_arbitrage-pi_trader}')\n"
   ]
  },
  {
   "cell_type": "markdown",
   "metadata": {},
   "source": [
    "### (j) Construct a replicating portfolio and identify the arbitrage opportunity"
   ]
  },
  {
   "cell_type": "code",
   "execution_count": 12,
   "metadata": {},
   "outputs": [
    {
     "name": "stdout",
     "output_type": "stream",
     "text": [
      "Replicating portfolio: \n",
      "[-0.0319491   0.02555447  0.0319491   0.          0.02536585  0.96147572\n",
      "  0.          0.        ]\n",
      "Type II arbitrage portfolio: \n",
      "[ 0.0319491  -0.02555447 -0.0319491  -0.         -0.02536585 -0.96147572\n",
      " -0.         -0.          1.        ]\n",
      "Cash flow of the arbitrage portfolio: \n",
      "[ 0. -0.  0. -0.  0.  0.  0.  0.  0.]\n",
      "Price of the bond in the arbitrage portfolio: -2.852338508196297\n"
     ]
    }
   ],
   "source": [
    "# replicating portfolio\n",
    "h_rep = np.linalg.solve(C[:,1:].T, C_trader[1:]) # remoing the first column as it is today's cash flow\n",
    "print(f'Replicating portfolio: \\n{np.round(h_rep,8)}')\n",
    "\n",
    "# type II arbitrage portfolio\n",
    "h_arb_II = np.hstack([-h_rep,np.array([1])]) # short the replicating portfolio and buy the bond (as bond is priced under fair market value)\n",
    "print(f'Type II arbitrage portfolio: \\n{np.round(h_arb_II,8)}')\n",
    "\n",
    "# cash flow of the arbitrage portfolio\n",
    "C_arb_II = h_arb_II @ C_ijk\n",
    "print(f'Cash flow of the arbitrage portfolio: \\n{np.round(C_arb_II,8)}') # we see that the cash flow is zero in all periods - hence we can leverage price discrepancy today\n",
    "\n",
    "# price of the bond in the arbitrage portfolio\n",
    "pi_arb_II = h_arb_II @ pi_ijk\n",
    "print(f'Price of the bond in the arbitrage portfolio: {pi_arb_II}') # negative price - hence we earn money today"
   ]
  },
  {
   "cell_type": "markdown",
   "metadata": {},
   "source": [
    "### (k) Type I arbitrage"
   ]
  },
  {
   "cell_type": "code",
   "execution_count": 13,
   "metadata": {},
   "outputs": [
    {
     "name": "stdout",
     "output_type": "stream",
     "text": [
      "Portfolio replicating the March 2017 ZCB: \n",
      "[-9.89300e-05  2.46000e-06 -9.77274e-03 -0.00000e+00  0.00000e+00\n",
      "  9.67375e-03  0.00000e+00  0.00000e+00  0.00000e+00]\n",
      "Cash flow of the portfolio replicating the March 2017 ZCB: \n",
      "[ 0.  1.  0. -0. -0.  0.  0.  0. -0.]\n",
      "Price of the portfolio replicating the March 2017 ZCB is: 0.9906031214634187\n",
      "Type I arbitrage portfolio: \n",
      "[ 0.03166424 -0.02554738 -0.06008868 -0.         -0.02536585 -0.93362117\n",
      "  0.          0.          1.        ]\n",
      "Cash flow of the arbitrage portfolio: \n",
      "[ 0.          2.87939584  0.         -0.          0.          0.\n",
      "  0.          0.          0.        ]\n",
      "Price of the bond in the arbitrage portfolio: 0.0\n"
     ]
    }
   ],
   "source": [
    "# desired cash flow\n",
    "C_march_2017_zcb = np.zeros(M)\n",
    "C_march_2017_zcb[1] = 1 # the only period we want a cash flow in\n",
    "\n",
    "# replicating portfolio of zcb to March 2017\n",
    "h_march_2017_zcb = np.linalg.solve(C[:,1:].T, C_march_2017_zcb[1:].T) # remoing the first column as it is today's cash flow\n",
    "h_march_2017_zcb = np.hstack([h_march_2017_zcb,0]) # adding 0 as we do not want the new bond being offered as part of the zcb miroring portfolio\n",
    "print(f'Portfolio replicating the March 2017 ZCB: \\n{np.round(h_march_2017_zcb,8)}')\n",
    "\n",
    "# cash flow of the portfolio replicating the March 2017 ZCB\n",
    "C_march_2017_zcb = h_march_2017_zcb @ C_ijk\n",
    "print(f'Cash flow of the portfolio replicating the March 2017 ZCB: \\n{np.round(C_march_2017_zcb,8)}')\n",
    "\n",
    "# price of the bond in the arbitrage portfolio\n",
    "pi_march_2017_zcb = h_march_2017_zcb @ pi_ijk\n",
    "print(f'Price of the portfolio replicating the March 2017 ZCB is: {pi_march_2017_zcb}')\n",
    "\n",
    "# finding the arbitrage portfolio\n",
    "h_arb_I = - pi_arb_II/pi_march_2017_zcb*h_march_2017_zcb + h_arb_II # buying march 2017 ZCB by leveraging the type II arbitrage portfolio to get the cost now to zero (it has 0 cash flows in the future)\n",
    "print(f'Type I arbitrage portfolio: \\n{np.round(h_arb_I,8)}')\n",
    "\n",
    "# cash flow of the arbitrage portfolio\n",
    "C_arb_I = h_arb_I @ C_ijk\n",
    "print(f'Cash flow of the arbitrage portfolio: \\n{np.round(C_arb_I,8)}') # only positive cash flow on march 2017\n",
    "\n",
    "# price of the bond in the arbitrage portfolio\n",
    "pi_arb_I = h_arb_I @ pi_ijk\n",
    "print(f'Price of the bond in the arbitrage portfolio: {pi_arb_I}') # 0 cost today, hence type 1 arbitrage"
   ]
  },
  {
   "cell_type": "markdown",
   "metadata": {},
   "source": [
    "---"
   ]
  },
  {
   "cell_type": "markdown",
   "metadata": {},
   "source": [
    "## Problem 2"
   ]
  },
  {
   "cell_type": "code",
   "execution_count": 14,
   "metadata": {},
   "outputs": [],
   "source": [
    "# setting up the data\n",
    "EURIBOR_fixing = [{'id':0,'instrument':'libor','maturity':1/2,'rate':0.02750}]\n",
    "fra_market = [{'id':1,'instrument':'fra','exercise':1/12,'maturity':7/12,'rate':0.02980},\n",
    "              {'id':2,'instrument':'fra','exercise':2/12,'maturity':8/12,'rate':0.03122},\n",
    "              {'id':3,'instrument':'fra','exercise':3/12,'maturity':9/12,'rate':0.03257},\n",
    "              {'id':4,'instrument':'fra','exercise':4/12,'maturity':10/12,'rate':0.03384},\n",
    "              {'id':5,'instrument':'fra','exercise':5/12,'maturity':11/12,'rate':0.03504},\n",
    "              {'id':6,'instrument':'fra','exercise':6/12,'maturity':12/12,'rate':0.03617},\n",
    "              {'id':7,'instrument':'fra','exercise':7/12,'maturity':13/12,'rate':0.03724},\n",
    "              {'id':8,'instrument':'fra','exercise':8/12,'maturity':14/12,'rate':0.03825},\n",
    "              {'id':9,'instrument':'fra','exercise':9/12,'maturity':15/12,'rate':0.03920},\n",
    "              ]\n",
    "swap_market = [{'id':10,'instrument':'swap','maturity':2,'rate':0.03782,'float_freq':'semiannual','fixed_freq':'annual','indices':[]},\n",
    "               {'id':11,'instrument':'swap','maturity':3,'rate':0.04152,'float_freq':'semiannual','fixed_freq':'annual','indices':[]},\n",
    "               {'id':12,'instrument':'swap','maturity':4,'rate':0.04402,'float_freq':'semiannual','fixed_freq':'annual','indices':[]},\n",
    "               {'id':13,'instrument':'swap','maturity':5,'rate':0.04577,'float_freq':'semiannual','fixed_freq':'annual','indices':[]},\n",
    "               {'id':14,'instrument':'swap','maturity':7,'rate':0.04797,'float_freq':'semiannual','fixed_freq':'annual','indices':[]},\n",
    "               {'id':15,'instrument':'swap','maturity':10,'rate':0.04971,'float_freq':'semiannual','fixed_freq':'annual','indices':[]},\n",
    "               {'id':16,'instrument':'swap','maturity':15,'rate':0.05105,'float_freq':'semiannual','fixed_freq':'annual','indices':[]},\n",
    "               {'id':17,'instrument':'swap','maturity':20,'rate':0.05170,'float_freq':'semiannual','fixed_freq':'annual','indices':[]},\n",
    "               {'id':18,'instrument':'swap','maturity':30,'rate':0.05230,'float_freq':'semiannual','fixed_freq':'annual','indices':[]},\n",
    "               ]\n",
    "\n",
    "data = EURIBOR_fixing + fra_market + swap_market"
   ]
  },
  {
   "cell_type": "markdown",
   "metadata": {},
   "source": [
    "### (a) Calibrate ZCB spot rates, and instantaneous forward rates"
   ]
  },
  {
   "cell_type": "code",
   "execution_count": 15,
   "metadata": {},
   "outputs": [
    {
     "name": "stdout",
     "output_type": "stream",
     "text": [
      "T_fit:\n",
      "[ 0.08333333  0.16666667  0.25        0.33333333  0.41666667  0.5\n",
      "  0.58333333  0.66666667  0.75        0.83333333  0.91666667  1.\n",
      "  1.08333333  1.16666667  1.25        2.          3.          4.\n",
      "  5.          7.         10.         15.         20.         30.        ]\n",
      "R_fit:\n",
      "[0.01891254 0.02222836 0.02393064 0.02505886 0.02622653 0.02731265\n",
      " 0.02805622 0.02879122 0.02951531 0.03015769 0.03086838 0.03157974\n",
      " 0.03213683 0.03269019 0.0332375  0.03722765 0.04090889 0.04342451\n",
      " 0.04520437 0.04746798 0.04928721 0.05071368 0.0514388  0.05214648]\n"
     ]
    }
   ],
   "source": [
    "interpolation_options = {'method':'hermite','degree':2,'transition':None} # alternatively {'method':'linear'}, degree is only used for hermite; degree = 1 is linear interpolation\n",
    "\n",
    "T_fit, R_fit = fid.zcb_curve_fit(data, interpolation_options)\n",
    "print(f'T_fit:\\n{T_fit}') \n",
    "print(f'R_fit:\\n{R_fit}') # fitted spot rates at the points where we have data\n",
    "resolution = 1\n",
    "T_inter = np.array([i*(1/(resolution*12)) for i in range(0,int(T_fit[-1])*12*resolution + 1)])\n",
    "p_inter, R_inter, f_inter, T_inter = fid.zcb_curve_interpolate(T_inter = T_inter, T = T_fit, R = R_fit, interpolation_options = interpolation_options) # interpolating data between the points, resolution = 1, is monthly data, = 2 is bi-monthly data etc.\n",
    "# print(f'T_inter:\\n{T_inter}')\n",
    "# print(f'R_inter:\\n{R_inter}') # interpolated spot rates between the points"
   ]
  },
  {
   "cell_type": "code",
   "execution_count": 16,
   "metadata": {},
   "outputs": [
    {
     "data": {
      "image/png": "[encoded data removed]",
      "text/plain": [
       "<Figure size 640x480 with 1 Axes>"
      ]
     },
     "metadata": {},
     "output_type": "display_data"
    }
   ],
   "source": [
    "fig, ax1 = plt.subplots()\n",
    "\n",
    "scatter1 = ax1.scatter(T_inter[1:], R_inter[1:],marker = '.', label='Spot rates', alpha=0.5, color='black')\n",
    "scatter2 = ax1.scatter(T_inter[1:], f_inter[1:], marker = '.', label='Forward rates', alpha=0.5, color='red')\n",
    "ax1.set_ylim([0, 0.0625])\n",
    "ax1.set_xlabel('Time to Maturity')\n",
    "ax1.set_ylabel('Rates')\n",
    "\n",
    "# lines at each tick\n",
    "for tick in ax1.get_yticks():\n",
    "    ax1.axhline(y=tick, color='gray', linestyle='--')\n",
    "\n",
    "# Combine legends\n",
    "scatters = [scatter1, scatter2]\n",
    "labels = [scatter.get_label() for scatter in scatters]\n",
    "ax1.legend(scatters, labels, loc='lower right')\n",
    "\n",
    "plt.title('Calibrated zero-coupon spot rates (New functions)')\n",
    "plt.show()"
   ]
  },
  {
   "cell_type": "markdown",
   "metadata": {},
   "source": [
    "### (b) Compute prices, YTM, macauley duration, modified duration, and convexity of the bonds"
   ]
  },
  {
   "cell_type": "code",
   "execution_count": 17,
   "metadata": {},
   "outputs": [
    {
     "name": "stdout",
     "output_type": "stream",
     "text": [
      "Fixed rate bond price: 100.71521437553433\n",
      "YTM: 0.04968873644025737\n",
      "Macaulay Duration: 7.997928509115171\n",
      "Modified Duration: 7.619333457114189\n",
      "Convexity: 73.46510917238432\n"
     ]
    }
   ],
   "source": [
    "K_fr, mat_fr, cp_py_fr, cp_rate_fr = 100, 10, 2, 0.05 # given data: principal, maturity, coupon payments per year, coupon rate\n",
    "delta_ytm = 0.001\n",
    "T_fr = np.array([i/cp_py_fr for i in range(0, mat_fr*cp_py_fr+1)]) # time array for the bond\n",
    "C_fr = np.zeros(mat_fr*cp_py_fr+1) # cash flow array for the bond\n",
    "\n",
    "for i in range(1, mat_fr*cp_py_fr+1):\n",
    "    C_fr[i] = (T_fr[i]-T_fr[i-1])*cp_rate_fr*K_fr\n",
    "C_fr[-1] += K_fr # adding the principal to the last cash flow\n",
    "\n",
    "p_fr = np.array(fid.for_values_in_list_find_value_return_value(T_fr,T_inter,p_inter)) # calculating the zero coupon bond prices for the bond\n",
    "price_fr = p_fr @ C_fr # calculating the price of the bond\n",
    "ytm_fr = fid.ytm(price_fr,T_fr,C_fr) # calculating the yield to maturity of the bond\n",
    "D = fid.macauley_duration(price_fr,T_fr,C_fr,ytm_fr) # calculating the macauley duration of the bond\n",
    "MD = fid.modified_duration(price_fr,T_fr,C_fr,ytm_fr) # calculating the modified duration of the bond\n",
    "K = fid.convexity(price_fr,T_fr,C_fr,ytm_fr) # calculating the convexity of the bond\n",
    "\n",
    "print(f'Fixed rate bond price: {price_fr}')\n",
    "print(f'YTM: {ytm_fr}')\n",
    "print(f'Macaulay Duration: {D}')\n",
    "print(f'Modified Duration: {MD}')\n",
    "print(f'Convexity: {K}')"
   ]
  },
  {
   "cell_type": "markdown",
   "metadata": {},
   "source": [
    "### (c) Estimate the percentage change in the price of the fixed rate bond for a 10bps increase in the yield-to-maturity using duration and duration and convexity"
   ]
  },
  {
   "cell_type": "code",
   "execution_count": 18,
   "metadata": {},
   "outputs": [
    {
     "name": "stdout",
     "output_type": "stream",
     "text": [
      "Estimated pct. change using duration: -0.007619333457114189\n",
      "Estimated pct. change using duration and convexity: -0.07582366855203028\n"
     ]
    }
   ],
   "source": [
    "pct_chg_D = -MD*delta_ytm # percentage change in price for a 1 basis point increase in yield\n",
    "pct_chg_D_and_K = -MD*delta_ytm + 0.5*(K+D)*(delta_ytm/(1+ytm_fr))**2 # percentage change in price for a 1 basis point increase in yield and convexity\n",
    "\n",
    "print(f'Estimated pct. change using duration: {pct_chg_D}') # 1bps\n",
    "print(f'Estimated pct. change using duration and convexity: {10*pct_chg_D_and_K}') # 1bps"
   ]
  },
  {
   "cell_type": "markdown",
   "metadata": {},
   "source": [
    "### (d) Compute the accrual factor and par swap rate of the 3Y interest rate swap"
   ]
  },
  {
   "cell_type": "code",
   "execution_count": 19,
   "metadata": {},
   "outputs": [
    {
     "name": "stdout",
     "output_type": "stream",
     "text": [
      "T_3Y_swap_fixed_leg: [0 1 2 3]\n",
      "3Y payer swap: S_3Y_swap: 2.7816680381148604, R_3Y_swap: 0.041519914099842445\n"
     ]
    }
   ],
   "source": [
    "K_3Y_swap = 100\n",
    "T_3Y_swap_fixed_leg = np.array([i for i in range(0,4)])\n",
    "print(f'T_3Y_swap_fixed_leg: {T_3Y_swap_fixed_leg}')\n",
    "p_3Y_swap_fixed_leg = np.array(fid.for_values_in_list_find_value_return_value(T_3Y_swap_fixed_leg,T_inter,p_inter))\n",
    "# print(f'p_3Y_swap_fixed_leg: {p_3Y_swap_fixed_leg}')\n",
    "S_3Y_swap = 0\n",
    "for i in range(1,len(T_3Y_swap_fixed_leg)):\n",
    "    S_3Y_swap += (T_3Y_swap_fixed_leg[i]-T_3Y_swap_fixed_leg[i-1])*p_3Y_swap_fixed_leg[i]\n",
    "R_3Y_swap = (1-p_3Y_swap_fixed_leg[-1])/S_3Y_swap\n",
    "print(f'3Y payer swap: S_3Y_swap: {S_3Y_swap}, R_3Y_swap: {R_3Y_swap}')"
   ]
  },
  {
   "cell_type": "markdown",
   "metadata": {},
   "source": [
    "### (e) Compute the accrual factor and par swap rate of the 10Y interest rate swap"
   ]
  },
  {
   "cell_type": "code",
   "execution_count": 20,
   "metadata": {},
   "outputs": [
    {
     "name": "stdout",
     "output_type": "stream",
     "text": [
      "T_10Y_swap_fixed_leg: [ 0  1  2  3  4  5  6  7  8  9 10]\n",
      "10Y payer swap: S_10Y_swap: 7.827988347294148, R_3Y_swap: 0.04971016386745171\n"
     ]
    }
   ],
   "source": [
    "K_10Y_swap = 100\n",
    "T_10Y_swap_fixed_leg = np.array([i for i in range(0,11)])\n",
    "print(f'T_10Y_swap_fixed_leg: {T_10Y_swap_fixed_leg}')\n",
    "p_10Y_swap_fixed_leg = np.array(fid.for_values_in_list_find_value_return_value(T_10Y_swap_fixed_leg,T_inter,p_inter))\n",
    "# print(f'p_3Y_swap_fixed_leg: {p_3Y_swap_fixed_leg}')\n",
    "S_10Y_swap = 0\n",
    "for i in range(1,len(T_10Y_swap_fixed_leg)):\n",
    "    S_10Y_swap += (T_10Y_swap_fixed_leg[i]-T_10Y_swap_fixed_leg[i-1])*p_10Y_swap_fixed_leg[i]\n",
    "R_10Y_swap = (1-p_10Y_swap_fixed_leg[-1])/S_10Y_swap\n",
    "print(f'10Y payer swap: S_10Y_swap: {S_10Y_swap}, R_3Y_swap: {R_10Y_swap}')"
   ]
  },
  {
   "cell_type": "markdown",
   "metadata": {},
   "source": [
    "### (f) Compute the PnL of the fixed rate bond, the 3Y payer swap and the 10Y receiver swap resulting from the increase in ZCB"
   ]
  },
  {
   "cell_type": "code",
   "execution_count": 21,
   "metadata": {},
   "outputs": [
    {
     "name": "stdout",
     "output_type": "stream",
     "text": [
      "Fixed rate bond price after shifting the spot rates: 99.91677987088272, change in price: -0.7984345046516097\n",
      "3Y payer swap after shifting the spot rates: S_3Y_swap: 2.7761954262038295, R_3Y_swap: 0.04255613878286586, change in rate: 0.0010362246830234179\n",
      "PnL of 3Y payer swap after shifting the spot rates: 0.2876762225529126\n",
      "10Y payer swap after shifting the spot rates: S_10Y_swap: 7.788390534298447, R_10Y_swap: 0.050743325467288256, change in rate: 0.0010331615998365462\n",
      "PnL of 10Y reciever swap after shifting the spot rates: -0.8046666024567597\n"
     ]
    }
   ],
   "source": [
    "# shifting the spot rates zcb curve\n",
    "R_inter_zcb_shift = R_inter + np.array([0] + [0.001 for i in range(1,len(R_inter))])\n",
    "p_inter_zcb_shift = fid.zcb_prices_from_spot_rates(T_inter, R_inter_zcb_shift)\n",
    "p_fr_zcb_shift = np.array(fid.for_values_in_list_find_value_return_value(T_fr,T_inter,p_inter_zcb_shift))\n",
    "price_fr_zcb_shift = p_fr_zcb_shift @ C_fr\n",
    "print(f'Fixed rate bond price after shifting the spot rates: {price_fr_zcb_shift}, change in price: {price_fr_zcb_shift-price_fr}')\n",
    "\n",
    "# PnL of the 3Y payer swap\n",
    "p_3Y_swap_fixed_leg_zcb_shift = np.array(fid.for_values_in_list_find_value_return_value(T_3Y_swap_fixed_leg,T_inter,p_inter_zcb_shift))\n",
    "S_3Y_swap_zcb_shift = 0\n",
    "for i in range(1,len(T_3Y_swap_fixed_leg)):\n",
    "    S_3Y_swap_zcb_shift += (T_3Y_swap_fixed_leg[i]-T_3Y_swap_fixed_leg[i-1])*p_3Y_swap_fixed_leg_zcb_shift[i]\n",
    "\n",
    "R_3Y_swap_zcb_shift = (1-p_3Y_swap_fixed_leg_zcb_shift[-1])/S_3Y_swap_zcb_shift\n",
    "PnL_3Y_swap_zcb_shift = S_3Y_swap_zcb_shift*(R_3Y_swap_zcb_shift-R_3Y_swap)*K_3Y_swap # not negative as this is a payer swap\n",
    "\n",
    "print(f'3Y payer swap after shifting the spot rates: S_3Y_swap: {S_3Y_swap_zcb_shift}, R_3Y_swap: {R_3Y_swap_zcb_shift}, change in rate: {R_3Y_swap_zcb_shift-R_3Y_swap}')\n",
    "print(f'PnL of 3Y payer swap after shifting the spot rates: {PnL_3Y_swap_zcb_shift}')\n",
    "\n",
    "\n",
    "# PnL of the 10Y reciever swap\n",
    "p_10Y_swap_fixed_leg_zcb_shift = np.array(fid.for_values_in_list_find_value_return_value(T_10Y_swap_fixed_leg,T_inter,p_inter_zcb_shift))\n",
    "S_10Y_swap_zcb_shift = 0\n",
    "for i in range(1,len(T_10Y_swap_fixed_leg)):\n",
    "    S_10Y_swap_zcb_shift += (T_10Y_swap_fixed_leg[i]-T_10Y_swap_fixed_leg[i-1])*p_10Y_swap_fixed_leg_zcb_shift[i]\n",
    "\n",
    "R_10Y_swap_zcb_shift = (1-p_10Y_swap_fixed_leg_zcb_shift[-1])/S_10Y_swap_zcb_shift\n",
    "PnL_10Y_swap_zcb_shift = - S_10Y_swap_zcb_shift*(R_10Y_swap_zcb_shift-R_10Y_swap)*K_10Y_swap\n",
    "\n",
    "print(f'10Y payer swap after shifting the spot rates: S_10Y_swap: {S_10Y_swap_zcb_shift}, R_10Y_swap: {R_10Y_swap_zcb_shift}, change in rate: {R_10Y_swap_zcb_shift-R_10Y_swap}')\n",
    "print(f'PnL of 10Y reciever swap after shifting the spot rates: {PnL_10Y_swap_zcb_shift}')"
   ]
  },
  {
   "cell_type": "markdown",
   "metadata": {},
   "source": [
    "### (g) To hedge the long position in the fixed rate bond against a 10 bps increase in ZCB spot rates using only the 3Y payer swap, what should the principal of the swap be?"
   ]
  },
  {
   "cell_type": "code",
   "execution_count": 22,
   "metadata": {},
   "outputs": [
    {
     "name": "stdout",
     "output_type": "stream",
     "text": [
      "To hedge 10Y fixed bond using 3Y payer swap, the pricipal must be: 277.54622803584425\n"
     ]
    }
   ],
   "source": [
    "pos_3Y_swap_zcb_shift = -(price_fr_zcb_shift - price_fr)/PnL_3Y_swap_zcb_shift * K_3Y_swap\n",
    "print(f'To hedge 10Y fixed bond using 3Y payer swap, the pricipal must be: {pos_3Y_swap_zcb_shift}')"
   ]
  },
  {
   "cell_type": "markdown",
   "metadata": {},
   "source": [
    "### (h) To hedge the long position in the fixed rate bond against a 10 bps increase in ZCB spot rates using only the 10Y receiver swap, what should the principal of the swap be?"
   ]
  },
  {
   "cell_type": "code",
   "execution_count": 23,
   "metadata": {},
   "outputs": [
    {
     "name": "stdout",
     "output_type": "stream",
     "text": [
      "To hedge 10Y fixed bond using 10Y reciever swap, the pricipal must be: -99.22550559621556\n"
     ]
    }
   ],
   "source": [
    "pos_10Y_swap_zcb_shift = -(price_fr_zcb_shift - price_fr)/PnL_10Y_swap_zcb_shift * K_10Y_swap\n",
    "print(f'To hedge 10Y fixed bond using 10Y reciever swap, the pricipal must be: {pos_10Y_swap_zcb_shift}')"
   ]
  },
  {
   "cell_type": "markdown",
   "metadata": {},
   "source": [
    "### (i) Relate the size of the hedging positions to the duration of the fixed rate bond and the accrual factors of each of the swaps"
   ]
  },
  {
   "cell_type": "code",
   "execution_count": 24,
   "metadata": {},
   "outputs": [
    {
     "name": "stdout",
     "output_type": "stream",
     "text": [
      "Accrual factor for 3Y payer swap: 2.7761954262038295\n",
      "Accrual factor for 10Y reciever swap: 7.788390534298447\n",
      "Modified duration: 7.619333457114189\n"
     ]
    }
   ],
   "source": [
    "# accural factors \n",
    "print(f'Accrual factor for 3Y payer swap: {S_3Y_swap_zcb_shift}')\n",
    "print(f'Accrual factor for 10Y reciever swap: {S_10Y_swap_zcb_shift}')\n",
    "print(f'Modified duration: {MD}')"
   ]
  },
  {
   "cell_type": "markdown",
   "metadata": {},
   "source": [
    "The fixed rate bond falls in value as rates rise whereas the 3Y payer swap rises in value as rates rise. Therefore, a long position in a payer swap is needed to hedge a long position in a fixed rate bond. The ratio of the sizes of the two positions are roughly equal to the ratio of the modified duration of the fixed rate bond to the swap, why the principal in the 3Y payer swap has to be almost three times that of the fixed rate bond. The 10 receiver swap, like the fixed rate bond, falls in value as rates rise and a negative position in the 10Y receiver swap is needed to hedge the fixed rate bond. The modified duration of the fixed rate bond and the 10Y receiver swap are close, why the principal of the 10Y is much closer to the principal of the 10Y fixed rate bond"
   ]
  },
  {
   "cell_type": "markdown",
   "metadata": {},
   "source": [
    "### (j) Compute the PnL of the fixed rate bond, the 3Y payer swap and the 10Y receiver swap resulting from the increase in market rates assuming the swaps have a principal of 100"
   ]
  },
  {
   "cell_type": "code",
   "execution_count": 25,
   "metadata": {},
   "outputs": [
    {
     "name": "stdout",
     "output_type": "stream",
     "text": [
      "Fixed rate bond price after shifting the spot rates: 99.94206466281287, change in price: -0.7731497127214624\n",
      "3Y payer swap after shifting the spot rates: S_3Y_swap: 2.77636887635892, R_3Y_swap: 0.042519981223280934, change in rate: 0.001000067123438489\n",
      "PnL of 3Y payer swap after shifting the spot rates: 0.2776555235784415\n",
      "10Y payer swap after shifting the spot rates: S_10Y_swap: 7.789706836965022, R_10Y_swap: 0.0507104392473537, change in rate: 0.0010002753799019937\n",
      "PnL of 10Y reciever swap after shifting the spot rates: -0.7791851965670346\n"
     ]
    }
   ],
   "source": [
    "# setting up the new data w. market rates adjusting across the board\n",
    "data_mr_shift = copy.deepcopy(data)\n",
    "\n",
    "# adding 10bps to all market rates\n",
    "for item in data_mr_shift:\n",
    "    item['rate'] += 0.001\n",
    "\n",
    "T_fit_mr_shift, R_fit_mr_shift = fid.zcb_curve_fit(data_mr_shift, interpolation_options)\n",
    "\n",
    "resolution = 1\n",
    "T_inter = np.array([i*(1/(resolution*12)) for i in range(0,int(T_fit_mr_shift[-1])*12*resolution + 1)])\n",
    "p_inter_mr_shift, R_inter_mr_shift, f_inter_mr_shift, T_inter_mr_shift = fid.zcb_curve_interpolate(T_inter = T_inter, T=T_fit_mr_shift, R=R_fit_mr_shift, interpolation_options=interpolation_options)\n",
    "\n",
    "# fixed rate bond\n",
    "p_fr_mr_shift = np.array(fid.for_values_in_list_find_value_return_value(T_fr,T_inter,p_inter_mr_shift))\n",
    "price_fr_mr_shift = p_fr_mr_shift @ C_fr\n",
    "print(f'Fixed rate bond price after shifting the spot rates: {price_fr_mr_shift}, change in price: {price_fr_mr_shift-price_fr}')\n",
    "\n",
    "# PnL of the 3Y payer swap\n",
    "p_3Y_swap_fixed_leg_mr_shift = np.array(fid.for_values_in_list_find_value_return_value(T_3Y_swap_fixed_leg,T_inter,p_inter_mr_shift))\n",
    "S_3Y_swap_mr_shift = 0\n",
    "for i in range(1,len(T_3Y_swap_fixed_leg)):\n",
    "    S_3Y_swap_mr_shift += (T_3Y_swap_fixed_leg[i]-T_3Y_swap_fixed_leg[i-1])*p_3Y_swap_fixed_leg_mr_shift[i]\n",
    "\n",
    "R_3Y_swap_mr_shift = (1-p_3Y_swap_fixed_leg_mr_shift[-1])/S_3Y_swap_mr_shift\n",
    "PnL_3Y_swap_mr_shift = S_3Y_swap_mr_shift*(R_3Y_swap_mr_shift-R_3Y_swap)*K_3Y_swap # not negative as this is a payer swap\n",
    "\n",
    "print(f'3Y payer swap after shifting the spot rates: S_3Y_swap: {S_3Y_swap_mr_shift}, R_3Y_swap: {R_3Y_swap_mr_shift}, change in rate: {R_3Y_swap_mr_shift-R_3Y_swap}')\n",
    "print(f'PnL of 3Y payer swap after shifting the spot rates: {PnL_3Y_swap_mr_shift}')\n",
    "\n",
    "# PnL of the 10Y reciever swap\n",
    "p_10Y_swap_fixed_leg_mr_shift = np.array(fid.for_values_in_list_find_value_return_value(T_10Y_swap_fixed_leg,T_inter,p_inter_mr_shift))\n",
    "S_10Y_swap_mr_shift = 0\n",
    "for i in range(1,len(T_10Y_swap_fixed_leg)):\n",
    "    S_10Y_swap_mr_shift += (T_10Y_swap_fixed_leg[i]-T_10Y_swap_fixed_leg[i-1])*p_10Y_swap_fixed_leg_mr_shift[i]\n",
    "\n",
    "R_10Y_swap_mr_shift = (1-p_10Y_swap_fixed_leg_mr_shift[-1])/S_10Y_swap_mr_shift\n",
    "PnL_10Y_swap_mr_shift = - S_10Y_swap_mr_shift*(R_10Y_swap_mr_shift-R_10Y_swap)*K_10Y_swap\n",
    "\n",
    "print(f'10Y payer swap after shifting the spot rates: S_10Y_swap: {S_10Y_swap_mr_shift}, R_10Y_swap: {R_10Y_swap_mr_shift}, change in rate: {R_10Y_swap_mr_shift-R_10Y_swap}')\n",
    "print(f'PnL of 10Y reciever swap after shifting the spot rates: {PnL_10Y_swap_mr_shift}')\n"
   ]
  },
  {
   "cell_type": "markdown",
   "metadata": {},
   "source": [
    "Numbers are slightly off on the 8th decimal place"
   ]
  },
  {
   "cell_type": "markdown",
   "metadata": {},
   "source": [
    "### (k) To hedge the long position in the fixed rate bond against a 10 bps increase in market rates using only the 3Y payer swap, what should the principal of the swap be?"
   ]
  },
  {
   "cell_type": "code",
   "execution_count": 26,
   "metadata": {},
   "outputs": [
    {
     "name": "stdout",
     "output_type": "stream",
     "text": [
      "To hedge 10Y fixed bond using 3Y payer swap, the pricipal must be: 278.4564494727356\n"
     ]
    }
   ],
   "source": [
    "pos_3Y_swap_mr_shift = -(price_fr_mr_shift - price_fr)/PnL_3Y_swap_mr_shift * K_3Y_swap\n",
    "print(f'To hedge 10Y fixed bond using 3Y payer swap, the pricipal must be: {pos_3Y_swap_mr_shift}')"
   ]
  },
  {
   "cell_type": "markdown",
   "metadata": {},
   "source": [
    "### (l) To hedge the long position in the fixed rate bond against a 10 bps increase in market rates using only the 10Y receiver swap, what should the principal of the swap be?"
   ]
  },
  {
   "cell_type": "code",
   "execution_count": 27,
   "metadata": {},
   "outputs": [
    {
     "name": "stdout",
     "output_type": "stream",
     "text": [
      "To hedge 10Y fixed bond using 10Y reciever swap, the pricipal must be: -99.22541086866595\n"
     ]
    }
   ],
   "source": [
    "pos_10Y_swap_zcb_shift = -(price_fr_mr_shift - price_fr)/PnL_10Y_swap_mr_shift * K_10Y_swap\n",
    "print(f'To hedge 10Y fixed bond using 10Y reciever swap, the pricipal must be: {pos_10Y_swap_zcb_shift}')"
   ]
  },
  {
   "cell_type": "markdown",
   "metadata": {},
   "source": [
    "### (m) Relate the size of the hedging positions to the duration of the fixed rate bond and the accrual factors of each of the swaps"
   ]
  },
  {
   "cell_type": "markdown",
   "metadata": {},
   "source": [
    "From the results, we see that increasing market rates have roughly the same effect on both the fixed rate bond as well as on the swaps and the conclusions regarding the signs and sizes of the swaps positions from question i) also apply in this case"
   ]
  },
  {
   "cell_type": "markdown",
   "metadata": {},
   "source": [
    "### (n) Discuss pros and cons of hedging the fixed rate bond using the 3Y versus the 10Y swap"
   ]
  },
  {
   "cell_type": "markdown",
   "metadata": {},
   "source": [
    "The 10Y fixed rate bond is exposed to changes in the entire yield curve up to maturities of 10 year and so is the 10Y swap. The 3Y swap however is not exposed to the yield curve beyond maturities up to 10 year. Hedging using the 3 year swap, is not ideal since changes at the back end of the yield curve would only affect the fixed rate bond rendering the hedge ineffective. When hedging interest rate position, it is important to use instruments of equal duration/accrual factor but it is also good practice to use instruments for hedging that have comparable maturity to the maturity of the instrument being hedged."
   ]
  }
 ],
 "metadata": {
  "kernelspec": {
   "display_name": "base",
   "language": "python",
   "name": "python3"
  },
  "language_info": {
   "codemirror_mode": {
    "name": "ipython",
    "version": 3
   },
   "file_extension": ".py",
   "mimetype": "text/x-python",
   "name": "python",
   "nbconvert_exporter": "python",
   "pygments_lexer": "ipython3",
   "version": "3.11.8"
  }
 },
 "nbformat": 4,
 "nbformat_minor": 2
}
