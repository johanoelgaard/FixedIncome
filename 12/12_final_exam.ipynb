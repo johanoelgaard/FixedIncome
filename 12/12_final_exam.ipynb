{
 "cells": [
  {
   "cell_type": "markdown",
   "metadata": {},
   "source": [
    "<!-- meta data for latex export -->\n",
    "\\setcounter{page}{0}\n",
    "\\title{Fixed Income Derivatives: Risk Management and Financial\n",
    "Institutions \\\\ Exam January 2024}\n",
    "\\author{Exam number: 12}\n",
    "\\date{January 18, 2025}\n",
    "\\maketitle\n",
    "\\setcounter{secnumdepth}{0}"
   ]
  },
  {
   "cell_type": "code",
   "execution_count": 1,
   "metadata": {},
   "outputs": [],
   "source": [
    "import warnings\n",
    "warnings.filterwarnings('ignore', category=RuntimeWarning)\n",
    "import numpy as np\n",
    "from scipy.optimize import minimize\n",
    "\n",
    "# import own module\n",
    "import fixed_income_derivatives_E2024 as fid\n",
    "import plotting as plot\n",
    "\n",
    "%load_ext autoreload\n",
    "%autoreload 2"
   ]
  },
  {
   "cell_type": "markdown",
   "metadata": {},
   "source": [
    "### Problem 1\n",
    "#### a)"
   ]
  },
  {
   "cell_type": "code",
   "execution_count": null,
   "metadata": {},
   "outputs": [],
   "source": []
  }
 ],
 "metadata": {
  "kernelspec": {
   "display_name": "base",
   "language": "python",
   "name": "python3"
  },
  "language_info": {
   "name": "python",
   "version": "3.11.8"
  }
 },
 "nbformat": 4,
 "nbformat_minor": 2
}
